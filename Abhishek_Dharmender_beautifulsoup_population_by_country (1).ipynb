{
 "cells": [
  {
   "cell_type": "markdown",
   "id": "79150e43",
   "metadata": {},
   "source": [
    "# Population by Country\n",
    "This dataset both countries and dependent territories. Data based on the latest United Nations Population Division estimates.\n",
    "\n",
    "\n",
    "\n",
    "## Data Description\n",
    "\n",
    "\n",
    "| Variables | Explanation of variable |\n",
    "| :----- | :----- |\n",
    "| **Country (or dependency)** | country name |\n",
    "| **Population (2020)** | the data is on 2020 population. |\n",
    "| **Yearly Change** | here we see the change yearly in population. |\n",
    "| **Net Change** | The net change in population yearly. |\n",
    "| **Density (P/Km�)** | opulation density is the number of people per unit of area, usually quoted per square kilometer or square mile. |\n",
    "| **Land Area (Km�)** | The average population in each country. |\n",
    "| **Migrants (net)** | regular and periodic movements of the population away from home country. | \n",
    "| **Fert. Rate** | average number of children born to women during their reproductive years . | \n",
    "| **Med. Age** | Median age is the age that divides a population into two numerically equally sized groups; that is, half the people are younger than this age and half are older. | \n",
    "| **Urban Pop %** | Urban population is the total population living in areas termed as urban by that country. | \n",
    "| **World Share** | The Earth has a human population of 7.88 billion, with an overall population density of 50 people per km 2, excluding Antarctica. | \n"
   ]
  },
  {
   "cell_type": "code",
   "execution_count": 62,
   "id": "7853ff43",
   "metadata": {},
   "outputs": [],
   "source": [
    "# all libraries\n",
    "import requests\n",
    "import csv\n",
    "from bs4 import BeautifulSoup as bs\n",
    "import pandas as pd\n",
    "import numpy as np\n",
    "import matplotlib.pyplot as plt\n",
    "import os\n",
    "import seaborn as sns\n",
    "import missingno as msno"
   ]
  },
  {
   "cell_type": "markdown",
   "id": "090cbeba",
   "metadata": {},
   "source": [
    "## scrape the table properly using BeautifulSoup."
   ]
  },
  {
   "cell_type": "code",
   "execution_count": 12,
   "id": "a63acc08",
   "metadata": {},
   "outputs": [],
   "source": [
    "# using url for scrapping data.\n",
    "url = requests.get('https://www.worldometers.info/world-population/population-by-country/')"
   ]
  },
  {
   "cell_type": "code",
   "execution_count": 13,
   "id": "85d6406d",
   "metadata": {},
   "outputs": [],
   "source": [
    "soup = bs(url.content, 'html.parser')     # here i am calling html content or url."
   ]
  },
  {
   "cell_type": "code",
   "execution_count": 14,
   "id": "dbdc7b19",
   "metadata": {},
   "outputs": [],
   "source": [
    "filename = 'test.csv'      # making name of file."
   ]
  },
  {
   "cell_type": "code",
   "execution_count": 15,
   "id": "d8a4bfce",
   "metadata": {},
   "outputs": [],
   "source": [
    "csv_writer = csv.writer(open(filename,'w'))     # making file with write command."
   ]
  },
  {
   "cell_type": "code",
   "execution_count": 31,
   "id": "b2d9eb83",
   "metadata": {},
   "outputs": [
    {
     "data": {
      "text/plain": [
       "<h1>Countries in the world by population (2022)</h1>"
      ]
     },
     "execution_count": 31,
     "metadata": {},
     "output_type": "execute_result"
    }
   ],
   "source": [
    "# here i am finding h1 tang or heading.\n",
    "heading = soup.find(\"h1\")\n",
    "heading"
   ]
  },
  {
   "cell_type": "code",
   "execution_count": 32,
   "id": "6b2b4a84",
   "metadata": {},
   "outputs": [
    {
     "name": "stdout",
     "output_type": "stream",
     "text": [
      "Countries in the world by population (2022)\n"
     ]
    }
   ],
   "source": [
    "print(heading.text)      # here we can see the heading with text function."
   ]
  },
  {
   "cell_type": "code",
   "execution_count": 40,
   "id": "5a26aa77",
   "metadata": {},
   "outputs": [
    {
     "name": "stdout",
     "output_type": "stream",
     "text": [
      "Inserting headers: #,Country (or dependency),Population (2020),Yearly Change,Net Change,Density (P/Km²),Land Area (Km²),Migrants (net),Fert. Rate,Med. Age,Urban Pop %,World Share\n",
      "Insertind data: 1,China,1,439,323,776,0.39 %,5,540,090,153,9,388,211,-348,399,1.7,38,61 %,18.47 %\n",
      "Insertind data: 2,India,1,380,004,385,0.99 %,13,586,631,464,2,973,190,-532,687,2.2,28,35 %,17.70 %\n",
      "Insertind data: 3,United States,331,002,651,0.59 %,1,937,734,36,9,147,420,954,806,1.8,38,83 %,4.25 %\n",
      "Insertind data: 4,Indonesia,273,523,615,1.07 %,2,898,047,151,1,811,570,-98,955,2.3,30,56 %,3.51 %\n",
      "Insertind data: 5,Pakistan,220,892,340,2.00 %,4,327,022,287,770,880,-233,379,3.6,23,35 %,2.83 %\n",
      "Insertind data: 6,Brazil,212,559,417,0.72 %,1,509,890,25,8,358,140,21,200,1.7,33,88 %,2.73 %\n",
      "Insertind data: 7,Nigeria,206,139,589,2.58 %,5,175,990,226,910,770,-60,000,5.4,18,52 %,2.64 %\n",
      "Insertind data: 8,Bangladesh,164,689,383,1.01 %,1,643,222,1,265,130,170,-369,501,2.1,28,39 %,2.11 %\n",
      "Insertind data: 9,Russia,145,934,462,0.04 %,62,206,9,16,376,870,182,456,1.8,40,74 %,1.87 %\n",
      "Insertind data: 10,Mexico,128,932,753,1.06 %,1,357,224,66,1,943,950,-60,000,2.1,29,84 %,1.65 %\n",
      "Insertind data: 11,Japan,126,476,461,-0.30 %,-383,840,347,364,555,71,560,1.4,48,92 %,1.62 %\n",
      "Insertind data: 12,Ethiopia,114,963,588,2.57 %,2,884,858,115,1,000,000,30,000,4.3,19,21 %,1.47 %\n",
      "Insertind data: 13,Philippines,109,581,078,1.35 %,1,464,463,368,298,170,-67,152,2.6,26,47 %,1.41 %\n",
      "Insertind data: 14,Egypt,102,334,404,1.94 %,1,946,331,103,995,450,-38,033,3.3,25,43 %,1.31 %\n",
      "Insertind data: 15,Vietnam,97,338,579,0.91 %,876,473,314,310,070,-80,000,2.1,32,38 %,1.25 %\n",
      "Insertind data: 16,DR Congo,89,561,403,3.19 %,2,770,836,40,2,267,050,23,861,6.0,17,46 %,1.15 %\n",
      "Insertind data: 17,Turkey,84,339,067,1.09 %,909,452,110,769,630,283,922,2.1,32,76 %,1.08 %\n",
      "Insertind data: 18,Iran,83,992,949,1.30 %,1,079,043,52,1,628,550,-55,000,2.2,32,76 %,1.08 %\n",
      "Insertind data: 19,Germany,83,783,942,0.32 %,266,897,240,348,560,543,822,1.6,46,76 %,1.07 %\n",
      "Insertind data: 20,Thailand,69,799,978,0.25 %,174,396,137,510,890,19,444,1.5,40,51 %,0.90 %\n",
      "Insertind data: 21,United Kingdom,67,886,011,0.53 %,355,839,281,241,930,260,650,1.8,40,83 %,0.87 %\n",
      "Insertind data: 22,France,65,273,511,0.22 %,143,783,119,547,557,36,527,1.9,42,82 %,0.84 %\n",
      "Insertind data: 23,Italy,60,461,826,-0.15 %,-88,249,206,294,140,148,943,1.3,47,69 %,0.78 %\n",
      "Insertind data: 24,Tanzania,59,734,218,2.98 %,1,728,755,67,885,800,-40,076,4.9,18,37 %,0.77 %\n",
      "Insertind data: 25,South Africa,59,308,690,1.28 %,750,420,49,1,213,090,145,405,2.4,28,67 %,0.76 %\n",
      "Insertind data: 26,Myanmar,54,409,800,0.67 %,364,380,83,653,290,-163,313,2.2,29,31 %,0.70 %\n",
      "Insertind data: 27,Kenya,53,771,296,2.28 %,1,197,323,94,569,140,-10,000,3.5,20,28 %,0.69 %\n",
      "Insertind data: 28,South Korea,51,269,185,0.09 %,43,877,527,97,230,11,731,1.1,44,82 %,0.66 %\n",
      "Insertind data: 29,Colombia,50,882,891,1.08 %,543,448,46,1,109,500,204,796,1.8,31,80 %,0.65 %\n",
      "Insertind data: 30,Spain,46,754,778,0.04 %,18,002,94,498,800,40,000,1.3,45,80 %,0.60 %\n",
      "Insertind data: 31,Uganda,45,741,007,3.32 %,1,471,413,229,199,810,168,694,5.0,17,26 %,0.59 %\n",
      "Insertind data: 32,Argentina,45,195,774,0.93 %,415,097,17,2,736,690,4,800,2.3,32,93 %,0.58 %\n",
      "Insertind data: 33,Algeria,43,851,044,1.85 %,797,990,18,2,381,740,-10,000,3.1,29,73 %,0.56 %\n",
      "Insertind data: 34,Sudan,43,849,260,2.42 %,1,036,022,25,1,765,048,-50,000,4.4,20,35 %,0.56 %\n",
      "Insertind data: 35,Ukraine,43,733,762,-0.59 %,-259,876,75,579,320,10,000,1.4,41,69 %,0.56 %\n",
      "Insertind data: 36,Iraq,40,222,493,2.32 %,912,710,93,434,320,7,834,3.7,21,73 %,0.52 %\n",
      "Insertind data: 37,Afghanistan,38,928,346,2.33 %,886,592,60,652,860,-62,920,4.6,18,25 %,0.50 %\n",
      "Insertind data: 38,Poland,37,846,611,-0.11 %,-41,157,124,306,230,-29,395,1.4,42,60 %,0.49 %\n",
      "Insertind data: 39,Canada,37,742,154,0.89 %,331,107,4,9,093,510,242,032,1.5,41,81 %,0.48 %\n",
      "Insertind data: 40,Morocco,36,910,560,1.20 %,438,791,83,446,300,-51,419,2.4,30,64 %,0.47 %\n",
      "Insertind data: 41,Saudi Arabia,34,813,871,1.59 %,545,343,16,2,149,690,134,979,2.3,32,84 %,0.45 %\n",
      "Insertind data: 42,Uzbekistan,33,469,203,1.48 %,487,487,79,425,400,-8,863,2.4,28,50 %,0.43 %\n",
      "Insertind data: 43,Peru,32,971,854,1.42 %,461,401,26,1,280,000,99,069,2.3,31,79 %,0.42 %\n",
      "Insertind data: 44,Angola,32,866,272,3.27 %,1,040,977,26,1,246,700,6,413,5.6,17,67 %,0.42 %\n",
      "Insertind data: 45,Malaysia,32,365,999,1.30 %,416,222,99,328,550,50,000,2.0,30,78 %,0.42 %\n",
      "Insertind data: 46,Mozambique,31,255,435,2.93 %,889,399,40,786,380,-5,000,4.9,18,38 %,0.40 %\n",
      "Insertind data: 47,Ghana,31,072,940,2.15 %,655,084,137,227,540,-10,000,3.9,22,57 %,0.40 %\n",
      "Insertind data: 48,Yemen,29,825,964,2.28 %,664,042,56,527,970,-30,000,3.8,20,38 %,0.38 %\n",
      "Insertind data: 49,Nepal,29,136,808,1.85 %,528,098,203,143,350,41,710,1.9,25,21 %,0.37 %\n",
      "Insertind data: 50,Venezuela,28,435,940,-0.28 %,-79,889,32,882,050,-653,249,2.3,30,N.A.,0.36 %\n",
      "Insertind data: 51,Madagascar,27,691,018,2.68 %,721,711,48,581,795,-1,500,4.1,20,39 %,0.36 %\n",
      "Insertind data: 52,Cameroon,26,545,863,2.59 %,669,483,56,472,710,-4,800,4.6,19,56 %,0.34 %\n",
      "Insertind data: 53,Côte d'Ivoire,26,378,274,2.57 %,661,730,83,318,000,-8,000,4.7,19,51 %,0.34 %\n",
      "Insertind data: 54,North Korea,25,778,816,0.44 %,112,655,214,120,410,-5,403,1.9,35,63 %,0.33 %\n",
      "Insertind data: 55,Australia,25,499,884,1.18 %,296,686,3,7,682,300,158,246,1.8,38,86 %,0.33 %\n",
      "Insertind data: 56,Niger,24,206,644,3.84 %,895,929,19,1,266,700,4,000,7.0,15,17 %,0.31 %\n",
      "Insertind data: 57,Taiwan,23,816,775,0.18 %,42,899,673,35,410,30,001,1.2,42,79 %,0.31 %\n",
      "Insertind data: 58,Sri Lanka,21,413,249,0.42 %,89,516,341,62,710,-97,986,2.2,34,18 %,0.27 %\n",
      "Insertind data: 59,Burkina Faso,20,903,273,2.86 %,581,895,76,273,600,-25,000,5.2,18,31 %,0.27 %\n",
      "Insertind data: 60,Mali,20,250,833,3.02 %,592,802,17,1,220,190,-40,000,5.9,16,44 %,0.26 %\n",
      "Insertind data: 61,Romania,19,237,691,-0.66 %,-126,866,84,230,170,-73,999,1.6,43,55 %,0.25 %\n",
      "Insertind data: 62,Malawi,19,129,952,2.69 %,501,205,203,94,280,-16,053,4.3,18,18 %,0.25 %\n",
      "Insertind data: 63,Chile,19,116,201,0.87 %,164,163,26,743,532,111,708,1.7,35,85 %,0.25 %\n",
      "Insertind data: 64,Kazakhstan,18,776,707,1.21 %,225,280,7,2,699,700,-18,000,2.8,31,58 %,0.24 %\n",
      "Insertind data: 65,Zambia,18,383,955,2.93 %,522,925,25,743,390,-8,000,4.7,18,45 %,0.24 %\n",
      "Insertind data: 66,Guatemala,17,915,568,1.90 %,334,096,167,107,160,-9,215,2.9,23,52 %,0.23 %\n",
      "Insertind data: 67,Ecuador,17,643,054,1.55 %,269,392,71,248,360,36,400,2.4,28,63 %,0.23 %\n",
      "Insertind data: 68,Syria,17,500,658,2.52 %,430,523,95,183,630,-427,391,2.8,26,60 %,0.22 %\n",
      "Insertind data: 69,Netherlands,17,134,872,0.22 %,37,742,508,33,720,16,000,1.7,43,92 %,0.22 %\n",
      "Insertind data: 70,Senegal,16,743,927,2.75 %,447,563,87,192,530,-20,000,4.7,19,49 %,0.21 %\n",
      "Insertind data: 71,Cambodia,16,718,965,1.41 %,232,423,95,176,520,-30,000,2.5,26,24 %,0.21 %\n",
      "Insertind data: 72,Chad,16,425,864,3.00 %,478,988,13,1,259,200,2,000,5.8,17,23 %,0.21 %\n",
      "Insertind data: 73,Somalia,15,893,222,2.92 %,450,317,25,627,340,-40,000,6.1,17,47 %,0.20 %\n",
      "Insertind data: 74,Zimbabwe,14,862,924,1.48 %,217,456,38,386,850,-116,858,3.6,19,38 %,0.19 %\n",
      "Insertind data: 75,Guinea,13,132,795,2.83 %,361,549,53,245,720,-4,000,4.7,18,39 %,0.17 %\n",
      "Insertind data: 76,Rwanda,12,952,218,2.58 %,325,268,525,24,670,-9,000,4.1,20,18 %,0.17 %\n",
      "Insertind data: 77,Benin,12,123,200,2.73 %,322,049,108,112,760,-2,000,4.9,19,48 %,0.16 %\n",
      "Insertind data: 78,Burundi,11,890,784,3.12 %,360,204,463,25,680,2,001,5.5,17,14 %,0.15 %\n",
      "Insertind data: 79,Tunisia,11,818,619,1.06 %,123,900,76,155,360,-4,000,2.2,33,70 %,0.15 %\n",
      "Insertind data: 80,Bolivia,11,673,021,1.39 %,159,921,11,1,083,300,-9,504,2.8,26,69 %,0.15 %\n",
      "Insertind data: 81,Belgium,11,589,623,0.44 %,50,295,383,30,280,48,000,1.7,42,98 %,0.15 %\n",
      "Insertind data: 82,Haiti,11,402,528,1.24 %,139,451,414,27,560,-35,000,3.0,24,57 %,0.15 %\n",
      "Insertind data: 83,Cuba,11,326,616,-0.06 %,-6,867,106,106,440,-14,400,1.6,42,78 %,0.15 %\n",
      "Insertind data: 84,South Sudan,11,193,725,1.19 %,131,612,18,610,952,-174,200,4.7,19,25 %,0.14 %\n",
      "Insertind data: 85,Dominican Republic,10,847,910,1.01 %,108,952,225,48,320,-30,000,2.4,28,85 %,0.14 %\n",
      "Insertind data: 86,Czech Republic (Czechia),10,708,981,0.18 %,19,772,139,77,240,22,011,1.6,43,74 %,0.14 %\n",
      "Insertind data: 87,Greece,10,423,054,-0.48 %,-50,401,81,128,900,-16,000,1.3,46,85 %,0.13 %\n",
      "Insertind data: 88,Jordan,10,203,134,1.00 %,101,440,115,88,780,10,220,2.8,24,91 %,0.13 %\n",
      "Insertind data: 89,Portugal,10,196,709,-0.29 %,-29,478,111,91,590,-6,000,1.3,46,66 %,0.13 %\n",
      "Insertind data: 90,Azerbaijan,10,139,177,0.91 %,91,459,123,82,658,1,200,2.1,32,56 %,0.13 %\n",
      "Insertind data: 91,Sweden,10,099,265,0.63 %,62,886,25,410,340,40,000,1.9,41,88 %,0.13 %\n",
      "Insertind data: 92,Honduras,9,904,607,1.63 %,158,490,89,111,890,-6,800,2.5,24,57 %,0.13 %\n",
      "Insertind data: 93,United Arab Emirates,9,890,402,1.23 %,119,873,118,83,600,40,000,1.4,33,86 %,0.13 %\n",
      "Insertind data: 94,Hungary,9,660,351,-0.25 %,-24,328,107,90,530,6,000,1.5,43,72 %,0.12 %\n",
      "Insertind data: 95,Tajikistan,9,537,645,2.32 %,216,627,68,139,960,-20,000,3.6,22,27 %,0.12 %\n",
      "Insertind data: 96,Belarus,9,449,323,-0.03 %,-3,088,47,202,910,8,730,1.7,40,79 %,0.12 %\n",
      "Insertind data: 97,Austria,9,006,398,0.57 %,51,296,109,82,409,65,000,1.5,43,57 %,0.12 %\n",
      "Insertind data: 98,Papua New Guinea,8,947,024,1.95 %,170,915,20,452,860,-800,3.6,22,13 %,0.11 %\n",
      "Insertind data: 99,Serbia,8,737,371,-0.40 %,-34,864,100,87,460,4,000,1.5,42,56 %,0.11 %\n",
      "Insertind data: 100,Israel,8,655,535,1.60 %,136,158,400,21,640,10,000,3.0,30,93 %,0.11 %\n",
      "Insertind data: 101,Switzerland,8,654,622,0.74 %,63,257,219,39,516,52,000,1.5,43,74 %,0.11 %\n",
      "Insertind data: 102,Togo,8,278,724,2.43 %,196,358,152,54,390,-2,000,4.4,19,43 %,0.11 %\n",
      "Insertind data: 103,Sierra Leone,7,976,983,2.10 %,163,768,111,72,180,-4,200,4.3,19,43 %,0.10 %\n",
      "Insertind data: 104,Hong Kong,7,496,981,0.82 %,60,827,7,140,1,050,29,308,1.3,45,N.A.,0.10 %\n",
      "Insertind data: 105,Laos,7,275,560,1.48 %,106,105,32,230,800,-14,704,2.7,24,36 %,0.09 %\n",
      "Insertind data: 106,Paraguay,7,132,538,1.25 %,87,902,18,397,300,-16,556,2.4,26,62 %,0.09 %\n",
      "Insertind data: 107,Bulgaria,6,948,445,-0.74 %,-51,674,64,108,560,-4,800,1.6,45,76 %,0.09 %\n",
      "Insertind data: 108,Libya,6,871,292,1.38 %,93,840,4,1,759,540,-1,999,2.3,29,78 %,0.09 %\n",
      "Insertind data: 109,Lebanon,6,825,445,-0.44 %,-30,268,667,10,230,-30,012,2.1,30,78 %,0.09 %\n",
      "Insertind data: 110,Nicaragua,6,624,554,1.21 %,79,052,55,120,340,-21,272,2.4,26,57 %,0.08 %\n",
      "Insertind data: 111,Kyrgyzstan,6,524,195,1.69 %,108,345,34,191,800,-4,000,3.0,26,36 %,0.08 %\n",
      "Insertind data: 112,El Salvador,6,486,205,0.51 %,32,652,313,20,720,-40,539,2.1,28,73 %,0.08 %\n",
      "Insertind data: 113,Turkmenistan,6,031,200,1.50 %,89,111,13,469,930,-5,000,2.8,27,53 %,0.08 %\n",
      "Insertind data: 114,Singapore,5,850,342,0.79 %,46,005,8,358,700,27,028,1.2,42,N.A.,0.08 %\n",
      "Insertind data: 115,Denmark,5,792,202,0.35 %,20,326,137,42,430,15,200,1.8,42,88 %,0.07 %\n",
      "Insertind data: 116,Finland,5,540,720,0.15 %,8,564,18,303,890,14,000,1.5,43,86 %,0.07 %\n",
      "Insertind data: 117,Congo,5,518,087,2.56 %,137,579,16,341,500,-4,000,4.5,19,70 %,0.07 %\n",
      "Insertind data: 118,Slovakia,5,459,642,0.05 %,2,629,114,48,088,1,485,1.5,41,54 %,0.07 %\n",
      "Insertind data: 119,Norway,5,421,241,0.79 %,42,384,15,365,268,28,000,1.7,40,83 %,0.07 %\n",
      "Insertind data: 120,Oman,5,106,626,2.65 %,131,640,16,309,500,87,400,2.9,31,87 %,0.07 %\n",
      "Insertind data: 121,State of Palestine,5,101,414,2.41 %,119,994,847,6,020,-10,563,3.7,21,80 %,0.07 %\n",
      "Insertind data: 122,Costa Rica,5,094,118,0.92 %,46,557,100,51,060,4,200,1.8,33,80 %,0.07 %\n",
      "Insertind data: 123,Liberia,5,057,681,2.44 %,120,307,53,96,320,-5,000,4.4,19,53 %,0.06 %\n",
      "Insertind data: 124,Ireland,4,937,786,1.13 %,55,291,72,68,890,23,604,1.8,38,63 %,0.06 %\n",
      "Insertind data: 125,Central African Republic,4,829,767,1.78 %,84,582,8,622,980,-40,000,4.8,18,43 %,0.06 %\n",
      "Insertind data: 126,New Zealand,4,822,233,0.82 %,39,170,18,263,310,14,881,1.9,38,87 %,0.06 %\n",
      "Insertind data: 127,Mauritania,4,649,658,2.74 %,123,962,5,1,030,700,5,000,4.6,20,57 %,0.06 %\n",
      "Insertind data: 128,Panama,4,314,767,1.61 %,68,328,58,74,340,11,200,2.5,30,68 %,0.06 %\n",
      "Insertind data: 129,Kuwait,4,270,571,1.51 %,63,488,240,17,820,39,520,2.1,37,N.A.,0.05 %\n",
      "Insertind data: 130,Croatia,4,105,267,-0.61 %,-25,037,73,55,960,-8,001,1.4,44,58 %,0.05 %\n",
      "Insertind data: 131,Moldova,4,033,963,-0.23 %,-9,300,123,32,850,-1,387,1.3,38,43 %,0.05 %\n",
      "Insertind data: 132,Georgia,3,989,167,-0.19 %,-7,598,57,69,490,-10,000,2.1,38,58 %,0.05 %\n",
      "Insertind data: 133,Eritrea,3,546,421,1.41 %,49,304,35,101,000,-39,858,4.1,19,63 %,0.05 %\n",
      "Insertind data: 134,Uruguay,3,473,730,0.35 %,11,996,20,175,020,-3,000,2.0,36,96 %,0.04 %\n",
      "Insertind data: 135,Bosnia and Herzegovina,3,280,819,-0.61 %,-20,181,64,51,000,-21,585,1.3,43,52 %,0.04 %\n",
      "Insertind data: 136,Mongolia,3,278,290,1.65 %,53,123,2,1,553,560,-852,2.9,28,67 %,0.04 %\n",
      "Insertind data: 137,Armenia,2,963,243,0.19 %,5,512,104,28,470,-4,998,1.8,35,63 %,0.04 %\n",
      "Insertind data: 138,Jamaica,2,961,167,0.44 %,12,888,273,10,830,-11,332,2.0,31,55 %,0.04 %\n",
      "Insertind data: 139,Qatar,2,881,053,1.73 %,48,986,248,11,610,40,000,1.9,32,96 %,0.04 %\n",
      "Insertind data: 140,Albania,2,877,797,-0.11 %,-3,120,105,27,400,-14,000,1.6,36,63 %,0.04 %\n",
      "Insertind data: 141,Puerto Rico,2,860,853,-2.47 %,-72,555,323,8,870,-97,986,1.2,44,N.A.,0.04 %\n",
      "Insertind data: 142,Lithuania,2,722,289,-1.35 %,-37,338,43,62,674,-32,780,1.7,45,71 %,0.03 %\n",
      "Insertind data: 143,Namibia,2,540,905,1.86 %,46,375,3,823,290,-4,806,3.4,22,55 %,0.03 %\n",
      "Insertind data: 144,Gambia,2,416,668,2.94 %,68,962,239,10,120,-3,087,5.3,18,59 %,0.03 %\n",
      "Insertind data: 145,Botswana,2,351,627,2.08 %,47,930,4,566,730,3,000,2.9,24,73 %,0.03 %\n",
      "Insertind data: 146,Gabon,2,225,734,2.45 %,53,155,9,257,670,3,260,4.0,23,87 %,0.03 %\n",
      "Insertind data: 147,Lesotho,2,142,249,0.80 %,16,981,71,30,360,-10,047,3.2,24,31 %,0.03 %\n",
      "Insertind data: 148,North Macedonia,2,083,374,0.00 %,-85,83,25,220,-1,000,1.5,39,59 %,0.03 %\n",
      "Insertind data: 149,Slovenia,2,078,938,0.01 %,284,103,20,140,2,000,1.6,45,55 %,0.03 %\n",
      "Insertind data: 150,Guinea-Bissau,1,968,001,2.45 %,47,079,70,28,120,-1,399,4.5,19,45 %,0.03 %\n",
      "Insertind data: 151,Latvia,1,886,198,-1.08 %,-20,545,30,62,200,-14,837,1.7,44,69 %,0.02 %\n",
      "Insertind data: 152,Bahrain,1,701,575,3.68 %,60,403,2,239,760,47,800,2.0,32,89 %,0.02 %\n",
      "Insertind data: 153,Equatorial Guinea,1,402,985,3.47 %,46,999,50,28,050,16,000,4.6,22,73 %,0.02 %\n",
      "Insertind data: 154,Trinidad and Tobago,1,399,488,0.32 %,4,515,273,5,130,-800,1.7,36,52 %,0.02 %\n",
      "Insertind data: 155,Estonia,1,326,535,0.07 %,887,31,42,390,3,911,1.6,42,68 %,0.02 %\n",
      "Insertind data: 156,Timor-Leste,1,318,445,1.96 %,25,326,89,14,870,-5,385,4.1,21,33 %,0.02 %\n",
      "Insertind data: 157,Mauritius,1,271,768,0.17 %,2,100,626,2,030,0,1.4,37,41 %,0.02 %\n",
      "Insertind data: 158,Cyprus,1,207,359,0.73 %,8,784,131,9,240,5,000,1.3,37,67 %,0.02 %\n",
      "Insertind data: 159,Eswatini,1,160,164,1.05 %,12,034,67,17,200,-8,353,3.0,21,30 %,0.01 %\n",
      "Insertind data: 160,Djibouti,988,000,1.48 %,14,440,43,23,180,900,2.8,27,79 %,0.01 %\n",
      "Insertind data: 161,Fiji,896,445,0.73 %,6,492,49,18,270,-6,202,2.8,28,59 %,0.01 %\n",
      "Insertind data: 162,Réunion,895,312,0.72 %,6,385,358,2,500,-1,256,2.3,36,100 %,0.01 %\n",
      "Insertind data: 163,Comoros,869,601,2.20 %,18,715,467,1,861,-2,000,4.2,20,29 %,0.01 %\n",
      "Insertind data: 164,Guyana,786,552,0.48 %,3,786,4,196,850,-6,000,2.5,27,27 %,0.01 %\n",
      "Insertind data: 165,Bhutan,771,608,1.12 %,8,516,20,38,117,320,2.0,28,46 %,0.01 %\n",
      "Insertind data: 166,Solomon Islands,686,884,2.55 %,17,061,25,27,990,-1,600,4.4,20,23 %,0.01 %\n",
      "Insertind data: 167,Macao,649,335,1.39 %,8,890,21,645,30,5,000,1.2,39,N.A.,0.01 %\n",
      "Insertind data: 168,Montenegro,628,066,0.01 %,79,47,13,450,-480,1.8,39,68 %,0.01 %\n",
      "Insertind data: 169,Luxembourg,625,978,1.66 %,10,249,242,2,590,9,741,1.5,40,88 %,0.01 %\n",
      "Insertind data: 170,Western Sahara,597,339,2.55 %,14,876,2,266,000,5,582,2.4,28,87 %,0.01 %\n",
      "Insertind data: 171,Suriname,586,632,0.90 %,5,260,4,156,000,-1,000,2.4,29,65 %,0.01 %\n",
      "Insertind data: 172,Cabo Verde,555,987,1.10 %,6,052,138,4,030,-1,342,2.3,28,68 %,0.01 %\n",
      "Insertind data: 173,Micronesia,548,914,1.00 %,5,428,784,700,-2,957,2.9,27,68 %,0.01 %\n",
      "Insertind data: 174,Maldives,540,544,1.81 %,9,591,1,802,300,11,370,1.9,30,35 %,0.01 %\n",
      "Insertind data: 175,Malta,441,543,0.27 %,1,171,1,380,320,900,1.5,43,93 %,0.01 %\n",
      "Insertind data: 176,Brunei,437,479,0.97 %,4,194,83,5,270,0,1.8,32,80 %,0.01 %\n",
      "Insertind data: 177,Guadeloupe,400,124,0.02 %,68,237,1,690,-1,440,2.2,44,N.A.,0.01 %\n",
      "Insertind data: 178,Belize,397,628,1.86 %,7,275,17,22,810,1,200,2.3,25,46 %,0.01 %\n",
      "Insertind data: 179,Bahamas,393,244,0.97 %,3,762,39,10,010,1,000,1.8,32,86 %,0.01 %\n",
      "Insertind data: 180,Martinique,375,265,-0.08 %,-289,354,1,060,-960,1.9,47,92 %,0.00 %\n",
      "Insertind data: 181,Iceland,341,243,0.65 %,2,212,3,100,250,380,1.8,37,94 %,0.00 %\n",
      "Insertind data: 182,Vanuatu,307,145,2.42 %,7,263,25,12,190,120,3.8,21,24 %,0.00 %\n",
      "Insertind data: 183,French Guiana,298,682,2.70 %,7,850,4,82,200,1,200,3.4,25,87 %,0.00 %\n",
      "Insertind data: 184,Barbados,287,375,0.12 %,350,668,430,-79,1.6,40,31 %,0.00 %\n",
      "Insertind data: 185,New Caledonia,285,498,0.97 %,2,748,16,18,280,502,2.0,34,72 %,0.00 %\n",
      "Insertind data: 186,French Polynesia,280,908,0.58 %,1,621,77,3,660,-1,000,2.0,34,64 %,0.00 %\n",
      "Insertind data: 187,Mayotte,272,815,2.50 %,6,665,728,375,0,3.7,20,46 %,0.00 %\n",
      "Insertind data: 188,Sao Tome & Principe,219,159,1.91 %,4,103,228,960,-1,680,4.4,19,74 %,0.00 %\n",
      "Insertind data: 189,Samoa,198,414,0.67 %,1,317,70,2,830,-2,803,3.9,22,18 %,0.00 %\n",
      "Insertind data: 190,Saint Lucia,183,627,0.46 %,837,301,610,0,1.4,34,19 %,0.00 %\n",
      "Insertind data: 191,Channel Islands,173,863,0.93 %,1,604,915,190,1,351,1.5,43,30 %,0.00 %\n",
      "Insertind data: 192,Guam,168,775,0.89 %,1,481,313,540,-506,2.3,31,95 %,0.00 %\n",
      "Insertind data: 193,Curaçao,164,093,0.41 %,669,370,444,515,1.8,42,89 %,0.00 %\n",
      "Insertind data: 194,Kiribati,119,449,1.57 %,1,843,147,810,-800,3.6,23,57 %,0.00 %\n",
      "Insertind data: 195,Grenada,112,523,0.46 %,520,331,340,-200,2.1,32,35 %,0.00 %\n",
      "Insertind data: 196,St. Vincent & Grenadines,110,940,0.32 %,351,284,390,-200,1.9,33,53 %,0.00 %\n",
      "Insertind data: 197,Aruba,106,766,0.43 %,452,593,180,201,1.9,41,44 %,0.00 %\n",
      "Insertind data: 198,Tonga,105,695,1.15 %,1,201,147,720,-800,3.6,22,24 %,0.00 %\n",
      "Insertind data: 199,U.S. Virgin Islands,104,425,-0.15 %,-153,298,350,-451,2.0,43,96 %,0.00 %\n",
      "Insertind data: 200,Seychelles,98,347,0.62 %,608,214,460,-200,2.5,34,56 %,0.00 %\n",
      "Insertind data: 201,Antigua and Barbuda,97,929,0.84 %,811,223,440,0,2.0,34,26 %,0.00 %\n",
      "Insertind data: 202,Isle of Man,85,033,0.53 %,449,149,570,,N.A.,N.A.,53 %,0.00 %\n",
      "Insertind data: 203,Andorra,77,265,0.16 %,123,164,470,,N.A.,N.A.,88 %,0.00 %\n",
      "Insertind data: 204,Dominica,71,986,0.25 %,178,96,750,,N.A.,N.A.,74 %,0.00 %\n",
      "Insertind data: 205,Cayman Islands,65,722,1.19 %,774,274,240,,N.A.,N.A.,97 %,0.00 %\n",
      "Insertind data: 206,Bermuda,62,278,-0.36 %,-228,1,246,50,,N.A.,N.A.,97 %,0.00 %\n",
      "Insertind data: 207,Marshall Islands,59,190,0.68 %,399,329,180,,N.A.,N.A.,70 %,0.00 %\n",
      "Insertind data: 208,Northern Mariana Islands,57,559,0.60 %,343,125,460,,N.A.,N.A.,88 %,0.00 %\n",
      "Insertind data: 209,Greenland,56,770,0.17 %,98,0,410,450,,N.A.,N.A.,87 %,0.00 %\n",
      "Insertind data: 210,American Samoa,55,191,-0.22 %,-121,276,200,,N.A.,N.A.,88 %,0.00 %\n",
      "Insertind data: 211,Saint Kitts & Nevis,53,199,0.71 %,376,205,260,,N.A.,N.A.,33 %,0.00 %\n",
      "Insertind data: 212,Faeroe Islands,48,863,0.38 %,185,35,1,396,,N.A.,N.A.,43 %,0.00 %\n",
      "Insertind data: 213,Sint Maarten,42,876,1.15 %,488,1,261,34,,N.A.,N.A.,96 %,0.00 %\n",
      "Insertind data: 214,Monaco,39,242,0.71 %,278,26,337,1,,N.A.,N.A.,N.A.,0.00 %\n",
      "Insertind data: 215,Turks and Caicos,38,717,1.38 %,526,41,950,,N.A.,N.A.,89 %,0.00 %\n",
      "Insertind data: 216,Saint Martin,38,666,1.75 %,664,730,53,,N.A.,N.A.,0 %,0.00 %\n",
      "Insertind data: 217,Liechtenstein,38,128,0.29 %,109,238,160,,N.A.,N.A.,15 %,0.00 %\n",
      "Insertind data: 218,San Marino,33,931,0.21 %,71,566,60,,N.A.,N.A.,97 %,0.00 %\n",
      "Insertind data: 219,Gibraltar,33,691,-0.03 %,-10,3,369,10,,N.A.,N.A.,N.A.,0.00 %\n",
      "Insertind data: 220,British Virgin Islands,30,231,0.67 %,201,202,150,,N.A.,N.A.,52 %,0.00 %\n",
      "Insertind data: 221,Caribbean Netherlands,26,223,0.94 %,244,80,328,,N.A.,N.A.,75 %,0.00 %\n",
      "Insertind data: 222,Palau,18,094,0.48 %,86,39,460,,N.A.,N.A.,N.A.,0.00 %\n",
      "Insertind data: 223,Cook Islands,17,564,0.09 %,16,73,240,,N.A.,N.A.,75 %,0.00 %\n",
      "Insertind data: 224,Anguilla,15,003,0.90 %,134,167,90,,N.A.,N.A.,N.A.,0.00 %\n",
      "Insertind data: 225,Tuvalu,11,792,1.25 %,146,393,30,,N.A.,N.A.,62 %,0.00 %\n",
      "Insertind data: 226,Wallis & Futuna,11,239,-1.69 %,-193,80,140,,N.A.,N.A.,0 %,0.00 %\n",
      "Insertind data: 227,Nauru,10,824,0.63 %,68,541,20,,N.A.,N.A.,N.A.,0.00 %\n",
      "Insertind data: 228,Saint Barthelemy,9,877,0.30 %,30,470,21,,N.A.,N.A.,0 %,0.00 %\n",
      "Insertind data: 229,Saint Helena,6,077,0.30 %,18,16,390,,N.A.,N.A.,27 %,0.00 %\n",
      "Insertind data: 230,Saint Pierre & Miquelon,5,794,-0.48 %,-28,25,230,,N.A.,N.A.,100 %,0.00 %\n",
      "Insertind data: 231,Montserrat,4,992,0.06 %,3,50,100,,N.A.,N.A.,10 %,0.00 %\n",
      "Insertind data: 232,Falkland Islands,3,480,3.05 %,103,0,12,170,,N.A.,N.A.,66 %,0.00 %\n",
      "Insertind data: 233,Niue,1,626,0.68 %,11,6,260,,N.A.,N.A.,46 %,0.00 %\n",
      "Insertind data: 234,Tokelau,1,357,1.27 %,17,136,10,,N.A.,N.A.,0 %,0.00 %\n",
      "Insertind data: 235,Holy See,801,0.25 %,2,2,003,0,,N.A.,N.A.,N.A.,0.00 %\n"
     ]
    }
   ],
   "source": [
    "# in this loop i am extracting my file.\n",
    "\n",
    "# calling table row.\n",
    "for tr in soup.find_all(\"tr\"):\n",
    "    data = []\n",
    "    \n",
    "    # table heading with table row.\n",
    "    for th in tr.find_all(\"th\"):\n",
    "        data.append(th.text)\n",
    "    \n",
    "    # using for loop for inserting headers and join data.\n",
    "    if(data):\n",
    "        print(\"Inserting headers: {}\".format(','.join(data)))\n",
    "        csv_writer.writerow(data)\n",
    "        continue\n",
    "    \n",
    "    # using strip function to strip from left and right.\n",
    "    for td in tr.find_all(\"td\"):\n",
    "        data.append(td.text.strip())\n",
    "    \n",
    "    # in the last, file making process.\n",
    "    if(data):\n",
    "        print(\"Insertind data: {}\".format(','.join(data)))\n",
    "        csv_writer.writerow(data)"
   ]
  },
  {
   "cell_type": "code",
   "execution_count": null,
   "id": "f184aaab",
   "metadata": {},
   "outputs": [],
   "source": []
  },
  {
   "cell_type": "code",
   "execution_count": null,
   "id": "8b760681",
   "metadata": {},
   "outputs": [],
   "source": []
  },
  {
   "cell_type": "markdown",
   "id": "752a1da6",
   "metadata": {},
   "source": [
    "## basic data cleaning steps"
   ]
  },
  {
   "cell_type": "code",
   "execution_count": 77,
   "id": "7e7ba2db",
   "metadata": {},
   "outputs": [],
   "source": [
    "# dataset.\n",
    "population = pd.read_csv('test_123.csv')"
   ]
  },
  {
   "cell_type": "code",
   "execution_count": 78,
   "id": "349ce091",
   "metadata": {},
   "outputs": [
    {
     "data": {
      "text/html": [
       "<div>\n",
       "<style scoped>\n",
       "    .dataframe tbody tr th:only-of-type {\n",
       "        vertical-align: middle;\n",
       "    }\n",
       "\n",
       "    .dataframe tbody tr th {\n",
       "        vertical-align: top;\n",
       "    }\n",
       "\n",
       "    .dataframe thead th {\n",
       "        text-align: right;\n",
       "    }\n",
       "</style>\n",
       "<table border=\"1\" class=\"dataframe\">\n",
       "  <thead>\n",
       "    <tr style=\"text-align: right;\">\n",
       "      <th></th>\n",
       "      <th>#</th>\n",
       "      <th>Country (or dependency)</th>\n",
       "      <th>Population (2020)</th>\n",
       "      <th>Yearly Change</th>\n",
       "      <th>Net Change</th>\n",
       "      <th>Density (P/Km�)</th>\n",
       "      <th>Land Area (Km�)</th>\n",
       "      <th>Migrants (net)</th>\n",
       "      <th>Fert. Rate</th>\n",
       "      <th>Med. Age</th>\n",
       "      <th>Urban Pop %</th>\n",
       "      <th>World Share</th>\n",
       "    </tr>\n",
       "  </thead>\n",
       "  <tbody>\n",
       "    <tr>\n",
       "      <th>0</th>\n",
       "      <td>NaN</td>\n",
       "      <td>NaN</td>\n",
       "      <td>NaN</td>\n",
       "      <td>NaN</td>\n",
       "      <td>NaN</td>\n",
       "      <td>NaN</td>\n",
       "      <td>NaN</td>\n",
       "      <td>NaN</td>\n",
       "      <td>NaN</td>\n",
       "      <td>NaN</td>\n",
       "      <td>NaN</td>\n",
       "      <td>NaN</td>\n",
       "    </tr>\n",
       "    <tr>\n",
       "      <th>1</th>\n",
       "      <td>1.0</td>\n",
       "      <td>China</td>\n",
       "      <td>1,439,323,776</td>\n",
       "      <td>0.39%</td>\n",
       "      <td>5,540,090</td>\n",
       "      <td>153</td>\n",
       "      <td>9,388,211</td>\n",
       "      <td>-348,399</td>\n",
       "      <td>1.7</td>\n",
       "      <td>38.0</td>\n",
       "      <td>61%</td>\n",
       "      <td>18.47%</td>\n",
       "    </tr>\n",
       "    <tr>\n",
       "      <th>2</th>\n",
       "      <td>NaN</td>\n",
       "      <td>NaN</td>\n",
       "      <td>NaN</td>\n",
       "      <td>NaN</td>\n",
       "      <td>NaN</td>\n",
       "      <td>NaN</td>\n",
       "      <td>NaN</td>\n",
       "      <td>NaN</td>\n",
       "      <td>NaN</td>\n",
       "      <td>NaN</td>\n",
       "      <td>NaN</td>\n",
       "      <td>NaN</td>\n",
       "    </tr>\n",
       "    <tr>\n",
       "      <th>3</th>\n",
       "      <td>2.0</td>\n",
       "      <td>India</td>\n",
       "      <td>1,380,004,385</td>\n",
       "      <td>0.99%</td>\n",
       "      <td>13,586,631</td>\n",
       "      <td>464</td>\n",
       "      <td>2,973,190</td>\n",
       "      <td>-532,687</td>\n",
       "      <td>2.2</td>\n",
       "      <td>28.0</td>\n",
       "      <td>35%</td>\n",
       "      <td>17.70%</td>\n",
       "    </tr>\n",
       "    <tr>\n",
       "      <th>4</th>\n",
       "      <td>NaN</td>\n",
       "      <td>NaN</td>\n",
       "      <td>NaN</td>\n",
       "      <td>NaN</td>\n",
       "      <td>NaN</td>\n",
       "      <td>NaN</td>\n",
       "      <td>NaN</td>\n",
       "      <td>NaN</td>\n",
       "      <td>NaN</td>\n",
       "      <td>NaN</td>\n",
       "      <td>NaN</td>\n",
       "      <td>NaN</td>\n",
       "    </tr>\n",
       "  </tbody>\n",
       "</table>\n",
       "</div>"
      ],
      "text/plain": [
       "     # Country (or dependency) Population (2020) Yearly Change  Net Change  \\\n",
       "0  NaN                     NaN               NaN           NaN         NaN   \n",
       "1  1.0                   China     1,439,323,776         0.39%   5,540,090   \n",
       "2  NaN                     NaN               NaN           NaN         NaN   \n",
       "3  2.0                   India     1,380,004,385         0.99%  13,586,631   \n",
       "4  NaN                     NaN               NaN           NaN         NaN   \n",
       "\n",
       "  Density (P/Km�) Land Area (Km�) Migrants (net)  Fert. Rate  Med. Age  \\\n",
       "0             NaN             NaN            NaN         NaN       NaN   \n",
       "1             153       9,388,211       -348,399         1.7      38.0   \n",
       "2             NaN             NaN            NaN         NaN       NaN   \n",
       "3             464       2,973,190       -532,687         2.2      28.0   \n",
       "4             NaN             NaN            NaN         NaN       NaN   \n",
       "\n",
       "  Urban Pop % World Share  \n",
       "0         NaN         NaN  \n",
       "1         61%      18.47%  \n",
       "2         NaN         NaN  \n",
       "3         35%      17.70%  \n",
       "4         NaN         NaN  "
      ]
     },
     "execution_count": 78,
     "metadata": {},
     "output_type": "execute_result"
    }
   ],
   "source": [
    "population.head()   # head of the dataset."
   ]
  },
  {
   "cell_type": "code",
   "execution_count": 79,
   "id": "7a19edfe",
   "metadata": {},
   "outputs": [
    {
     "data": {
      "text/html": [
       "<div>\n",
       "<style scoped>\n",
       "    .dataframe tbody tr th:only-of-type {\n",
       "        vertical-align: middle;\n",
       "    }\n",
       "\n",
       "    .dataframe tbody tr th {\n",
       "        vertical-align: top;\n",
       "    }\n",
       "\n",
       "    .dataframe thead th {\n",
       "        text-align: right;\n",
       "    }\n",
       "</style>\n",
       "<table border=\"1\" class=\"dataframe\">\n",
       "  <thead>\n",
       "    <tr style=\"text-align: right;\">\n",
       "      <th></th>\n",
       "      <th>#</th>\n",
       "      <th>Country (or dependency)</th>\n",
       "      <th>Population (2020)</th>\n",
       "      <th>Yearly Change</th>\n",
       "      <th>Net Change</th>\n",
       "      <th>Density (P/Km�)</th>\n",
       "      <th>Land Area (Km�)</th>\n",
       "      <th>Migrants (net)</th>\n",
       "      <th>Fert. Rate</th>\n",
       "      <th>Med. Age</th>\n",
       "      <th>Urban Pop %</th>\n",
       "      <th>World Share</th>\n",
       "    </tr>\n",
       "  </thead>\n",
       "  <tbody>\n",
       "    <tr>\n",
       "      <th>377</th>\n",
       "      <td>189.0</td>\n",
       "      <td>Samoa</td>\n",
       "      <td>198,414</td>\n",
       "      <td>0.67%</td>\n",
       "      <td>1,317</td>\n",
       "      <td>70</td>\n",
       "      <td>2,830</td>\n",
       "      <td>-2,803</td>\n",
       "      <td>3.9</td>\n",
       "      <td>22.0</td>\n",
       "      <td>18%</td>\n",
       "      <td>0.00%</td>\n",
       "    </tr>\n",
       "    <tr>\n",
       "      <th>378</th>\n",
       "      <td>NaN</td>\n",
       "      <td>NaN</td>\n",
       "      <td>NaN</td>\n",
       "      <td>NaN</td>\n",
       "      <td>NaN</td>\n",
       "      <td>NaN</td>\n",
       "      <td>NaN</td>\n",
       "      <td>NaN</td>\n",
       "      <td>NaN</td>\n",
       "      <td>NaN</td>\n",
       "      <td>NaN</td>\n",
       "      <td>NaN</td>\n",
       "    </tr>\n",
       "    <tr>\n",
       "      <th>379</th>\n",
       "      <td>190.0</td>\n",
       "      <td>Saint Lucia</td>\n",
       "      <td>183,627</td>\n",
       "      <td>0.46%</td>\n",
       "      <td>837</td>\n",
       "      <td>301</td>\n",
       "      <td>610</td>\n",
       "      <td>0</td>\n",
       "      <td>1.4</td>\n",
       "      <td>34.0</td>\n",
       "      <td>19%</td>\n",
       "      <td>0.00%</td>\n",
       "    </tr>\n",
       "    <tr>\n",
       "      <th>380</th>\n",
       "      <td>NaN</td>\n",
       "      <td>NaN</td>\n",
       "      <td>NaN</td>\n",
       "      <td>NaN</td>\n",
       "      <td>NaN</td>\n",
       "      <td>NaN</td>\n",
       "      <td>NaN</td>\n",
       "      <td>NaN</td>\n",
       "      <td>NaN</td>\n",
       "      <td>NaN</td>\n",
       "      <td>NaN</td>\n",
       "      <td>NaN</td>\n",
       "    </tr>\n",
       "    <tr>\n",
       "      <th>381</th>\n",
       "      <td>191.0</td>\n",
       "      <td>Channel Islands</td>\n",
       "      <td>173,863</td>\n",
       "      <td>0.93%</td>\n",
       "      <td>1,604</td>\n",
       "      <td>915</td>\n",
       "      <td>190</td>\n",
       "      <td>1,351</td>\n",
       "      <td>1.5</td>\n",
       "      <td>43.0</td>\n",
       "      <td>30%</td>\n",
       "      <td>0.00%</td>\n",
       "    </tr>\n",
       "  </tbody>\n",
       "</table>\n",
       "</div>"
      ],
      "text/plain": [
       "         # Country (or dependency) Population (2020) Yearly Change Net Change  \\\n",
       "377  189.0                   Samoa           198,414         0.67%      1,317   \n",
       "378    NaN                     NaN               NaN           NaN        NaN   \n",
       "379  190.0             Saint Lucia           183,627         0.46%        837   \n",
       "380    NaN                     NaN               NaN           NaN        NaN   \n",
       "381  191.0         Channel Islands           173,863         0.93%      1,604   \n",
       "\n",
       "    Density (P/Km�) Land Area (Km�) Migrants (net)  Fert. Rate  Med. Age  \\\n",
       "377              70           2,830         -2,803         3.9      22.0   \n",
       "378             NaN             NaN            NaN         NaN       NaN   \n",
       "379             301             610              0         1.4      34.0   \n",
       "380             NaN             NaN            NaN         NaN       NaN   \n",
       "381             915             190          1,351         1.5      43.0   \n",
       "\n",
       "    Urban Pop % World Share  \n",
       "377         18%       0.00%  \n",
       "378         NaN         NaN  \n",
       "379         19%       0.00%  \n",
       "380         NaN         NaN  \n",
       "381         30%       0.00%  "
      ]
     },
     "execution_count": 79,
     "metadata": {},
     "output_type": "execute_result"
    }
   ],
   "source": [
    "population.tail()     # tail of the dataset."
   ]
  },
  {
   "cell_type": "code",
   "execution_count": 80,
   "id": "eb9fac16",
   "metadata": {},
   "outputs": [
    {
     "data": {
      "text/html": [
       "<div>\n",
       "<style scoped>\n",
       "    .dataframe tbody tr th:only-of-type {\n",
       "        vertical-align: middle;\n",
       "    }\n",
       "\n",
       "    .dataframe tbody tr th {\n",
       "        vertical-align: top;\n",
       "    }\n",
       "\n",
       "    .dataframe thead th {\n",
       "        text-align: right;\n",
       "    }\n",
       "</style>\n",
       "<table border=\"1\" class=\"dataframe\">\n",
       "  <thead>\n",
       "    <tr style=\"text-align: right;\">\n",
       "      <th></th>\n",
       "      <th>#</th>\n",
       "      <th>Country (or dependency)</th>\n",
       "      <th>Population (2020)</th>\n",
       "      <th>Yearly Change</th>\n",
       "      <th>Net Change</th>\n",
       "      <th>Density (P/Km�)</th>\n",
       "      <th>Land Area (Km�)</th>\n",
       "      <th>Migrants (net)</th>\n",
       "      <th>Fert. Rate</th>\n",
       "      <th>Med. Age</th>\n",
       "      <th>Urban Pop %</th>\n",
       "      <th>World Share</th>\n",
       "    </tr>\n",
       "  </thead>\n",
       "  <tbody>\n",
       "    <tr>\n",
       "      <th>0</th>\n",
       "      <td>True</td>\n",
       "      <td>True</td>\n",
       "      <td>True</td>\n",
       "      <td>True</td>\n",
       "      <td>True</td>\n",
       "      <td>True</td>\n",
       "      <td>True</td>\n",
       "      <td>True</td>\n",
       "      <td>True</td>\n",
       "      <td>True</td>\n",
       "      <td>True</td>\n",
       "      <td>True</td>\n",
       "    </tr>\n",
       "    <tr>\n",
       "      <th>1</th>\n",
       "      <td>False</td>\n",
       "      <td>False</td>\n",
       "      <td>False</td>\n",
       "      <td>False</td>\n",
       "      <td>False</td>\n",
       "      <td>False</td>\n",
       "      <td>False</td>\n",
       "      <td>False</td>\n",
       "      <td>False</td>\n",
       "      <td>False</td>\n",
       "      <td>False</td>\n",
       "      <td>False</td>\n",
       "    </tr>\n",
       "    <tr>\n",
       "      <th>2</th>\n",
       "      <td>True</td>\n",
       "      <td>True</td>\n",
       "      <td>True</td>\n",
       "      <td>True</td>\n",
       "      <td>True</td>\n",
       "      <td>True</td>\n",
       "      <td>True</td>\n",
       "      <td>True</td>\n",
       "      <td>True</td>\n",
       "      <td>True</td>\n",
       "      <td>True</td>\n",
       "      <td>True</td>\n",
       "    </tr>\n",
       "    <tr>\n",
       "      <th>3</th>\n",
       "      <td>False</td>\n",
       "      <td>False</td>\n",
       "      <td>False</td>\n",
       "      <td>False</td>\n",
       "      <td>False</td>\n",
       "      <td>False</td>\n",
       "      <td>False</td>\n",
       "      <td>False</td>\n",
       "      <td>False</td>\n",
       "      <td>False</td>\n",
       "      <td>False</td>\n",
       "      <td>False</td>\n",
       "    </tr>\n",
       "    <tr>\n",
       "      <th>4</th>\n",
       "      <td>True</td>\n",
       "      <td>True</td>\n",
       "      <td>True</td>\n",
       "      <td>True</td>\n",
       "      <td>True</td>\n",
       "      <td>True</td>\n",
       "      <td>True</td>\n",
       "      <td>True</td>\n",
       "      <td>True</td>\n",
       "      <td>True</td>\n",
       "      <td>True</td>\n",
       "      <td>True</td>\n",
       "    </tr>\n",
       "    <tr>\n",
       "      <th>...</th>\n",
       "      <td>...</td>\n",
       "      <td>...</td>\n",
       "      <td>...</td>\n",
       "      <td>...</td>\n",
       "      <td>...</td>\n",
       "      <td>...</td>\n",
       "      <td>...</td>\n",
       "      <td>...</td>\n",
       "      <td>...</td>\n",
       "      <td>...</td>\n",
       "      <td>...</td>\n",
       "      <td>...</td>\n",
       "    </tr>\n",
       "    <tr>\n",
       "      <th>377</th>\n",
       "      <td>False</td>\n",
       "      <td>False</td>\n",
       "      <td>False</td>\n",
       "      <td>False</td>\n",
       "      <td>False</td>\n",
       "      <td>False</td>\n",
       "      <td>False</td>\n",
       "      <td>False</td>\n",
       "      <td>False</td>\n",
       "      <td>False</td>\n",
       "      <td>False</td>\n",
       "      <td>False</td>\n",
       "    </tr>\n",
       "    <tr>\n",
       "      <th>378</th>\n",
       "      <td>True</td>\n",
       "      <td>True</td>\n",
       "      <td>True</td>\n",
       "      <td>True</td>\n",
       "      <td>True</td>\n",
       "      <td>True</td>\n",
       "      <td>True</td>\n",
       "      <td>True</td>\n",
       "      <td>True</td>\n",
       "      <td>True</td>\n",
       "      <td>True</td>\n",
       "      <td>True</td>\n",
       "    </tr>\n",
       "    <tr>\n",
       "      <th>379</th>\n",
       "      <td>False</td>\n",
       "      <td>False</td>\n",
       "      <td>False</td>\n",
       "      <td>False</td>\n",
       "      <td>False</td>\n",
       "      <td>False</td>\n",
       "      <td>False</td>\n",
       "      <td>False</td>\n",
       "      <td>False</td>\n",
       "      <td>False</td>\n",
       "      <td>False</td>\n",
       "      <td>False</td>\n",
       "    </tr>\n",
       "    <tr>\n",
       "      <th>380</th>\n",
       "      <td>True</td>\n",
       "      <td>True</td>\n",
       "      <td>True</td>\n",
       "      <td>True</td>\n",
       "      <td>True</td>\n",
       "      <td>True</td>\n",
       "      <td>True</td>\n",
       "      <td>True</td>\n",
       "      <td>True</td>\n",
       "      <td>True</td>\n",
       "      <td>True</td>\n",
       "      <td>True</td>\n",
       "    </tr>\n",
       "    <tr>\n",
       "      <th>381</th>\n",
       "      <td>False</td>\n",
       "      <td>False</td>\n",
       "      <td>False</td>\n",
       "      <td>False</td>\n",
       "      <td>False</td>\n",
       "      <td>False</td>\n",
       "      <td>False</td>\n",
       "      <td>False</td>\n",
       "      <td>False</td>\n",
       "      <td>False</td>\n",
       "      <td>False</td>\n",
       "      <td>False</td>\n",
       "    </tr>\n",
       "  </tbody>\n",
       "</table>\n",
       "<p>382 rows × 12 columns</p>\n",
       "</div>"
      ],
      "text/plain": [
       "         #  Country (or dependency)  Population (2020)  Yearly Change  \\\n",
       "0     True                     True               True           True   \n",
       "1    False                    False              False          False   \n",
       "2     True                     True               True           True   \n",
       "3    False                    False              False          False   \n",
       "4     True                     True               True           True   \n",
       "..     ...                      ...                ...            ...   \n",
       "377  False                    False              False          False   \n",
       "378   True                     True               True           True   \n",
       "379  False                    False              False          False   \n",
       "380   True                     True               True           True   \n",
       "381  False                    False              False          False   \n",
       "\n",
       "     Net Change  Density (P/Km�)  Land Area (Km�)  Migrants (net)  Fert. Rate  \\\n",
       "0          True             True             True            True        True   \n",
       "1         False            False            False           False       False   \n",
       "2          True             True             True            True        True   \n",
       "3         False            False            False           False       False   \n",
       "4          True             True             True            True        True   \n",
       "..          ...              ...              ...             ...         ...   \n",
       "377       False            False            False           False       False   \n",
       "378        True             True             True            True        True   \n",
       "379       False            False            False           False       False   \n",
       "380        True             True             True            True        True   \n",
       "381       False            False            False           False       False   \n",
       "\n",
       "     Med. Age  Urban Pop %  World Share  \n",
       "0        True         True         True  \n",
       "1       False        False        False  \n",
       "2        True         True         True  \n",
       "3       False        False        False  \n",
       "4        True         True         True  \n",
       "..        ...          ...          ...  \n",
       "377     False        False        False  \n",
       "378      True         True         True  \n",
       "379     False        False        False  \n",
       "380      True         True         True  \n",
       "381     False        False        False  \n",
       "\n",
       "[382 rows x 12 columns]"
      ]
     },
     "execution_count": 80,
     "metadata": {},
     "output_type": "execute_result"
    }
   ],
   "source": [
    "population.isnull()     # checking null values."
   ]
  },
  {
   "cell_type": "code",
   "execution_count": 81,
   "id": "e64e578f",
   "metadata": {},
   "outputs": [
    {
     "data": {
      "text/plain": [
       "#                          191\n",
       "Country (or dependency)    191\n",
       "Population (2020)          191\n",
       "Yearly Change              191\n",
       "Net Change                 191\n",
       "Density (P/Km�)            191\n",
       "Land Area (Km�)            191\n",
       "Migrants (net)             191\n",
       "Fert. Rate                 191\n",
       "Med. Age                   191\n",
       "Urban Pop %                191\n",
       "World Share                191\n",
       "dtype: int64"
      ]
     },
     "execution_count": 81,
     "metadata": {},
     "output_type": "execute_result"
    }
   ],
   "source": [
    "population.isnull().sum()     # here i am checking total null values."
   ]
  },
  {
   "cell_type": "code",
   "execution_count": 82,
   "id": "b5d4b863",
   "metadata": {},
   "outputs": [
    {
     "data": {
      "text/html": [
       "<div>\n",
       "<style scoped>\n",
       "    .dataframe tbody tr th:only-of-type {\n",
       "        vertical-align: middle;\n",
       "    }\n",
       "\n",
       "    .dataframe tbody tr th {\n",
       "        vertical-align: top;\n",
       "    }\n",
       "\n",
       "    .dataframe thead th {\n",
       "        text-align: right;\n",
       "    }\n",
       "</style>\n",
       "<table border=\"1\" class=\"dataframe\">\n",
       "  <thead>\n",
       "    <tr style=\"text-align: right;\">\n",
       "      <th></th>\n",
       "      <th>#</th>\n",
       "      <th>Country (or dependency)</th>\n",
       "      <th>Population (2020)</th>\n",
       "      <th>Yearly Change</th>\n",
       "      <th>Net Change</th>\n",
       "      <th>Density (P/Km�)</th>\n",
       "      <th>Land Area (Km�)</th>\n",
       "      <th>Migrants (net)</th>\n",
       "      <th>Fert. Rate</th>\n",
       "      <th>Med. Age</th>\n",
       "      <th>Urban Pop %</th>\n",
       "      <th>World Share</th>\n",
       "    </tr>\n",
       "  </thead>\n",
       "  <tbody>\n",
       "    <tr>\n",
       "      <th>0</th>\n",
       "      <td>NaN</td>\n",
       "      <td>NaN</td>\n",
       "      <td>NaN</td>\n",
       "      <td>NaN</td>\n",
       "      <td>NaN</td>\n",
       "      <td>NaN</td>\n",
       "      <td>NaN</td>\n",
       "      <td>NaN</td>\n",
       "      <td>NaN</td>\n",
       "      <td>NaN</td>\n",
       "      <td>NaN</td>\n",
       "      <td>NaN</td>\n",
       "    </tr>\n",
       "    <tr>\n",
       "      <th>1</th>\n",
       "      <td>1.0</td>\n",
       "      <td>China</td>\n",
       "      <td>1,439,323,776</td>\n",
       "      <td>0.39%</td>\n",
       "      <td>5,540,090</td>\n",
       "      <td>153</td>\n",
       "      <td>9,388,211</td>\n",
       "      <td>-348,399</td>\n",
       "      <td>1.7</td>\n",
       "      <td>38.0</td>\n",
       "      <td>61%</td>\n",
       "      <td>18.47%</td>\n",
       "    </tr>\n",
       "    <tr>\n",
       "      <th>3</th>\n",
       "      <td>2.0</td>\n",
       "      <td>India</td>\n",
       "      <td>1,380,004,385</td>\n",
       "      <td>0.99%</td>\n",
       "      <td>13,586,631</td>\n",
       "      <td>464</td>\n",
       "      <td>2,973,190</td>\n",
       "      <td>-532,687</td>\n",
       "      <td>2.2</td>\n",
       "      <td>28.0</td>\n",
       "      <td>35%</td>\n",
       "      <td>17.70%</td>\n",
       "    </tr>\n",
       "    <tr>\n",
       "      <th>5</th>\n",
       "      <td>3.0</td>\n",
       "      <td>United States</td>\n",
       "      <td>331,002,651</td>\n",
       "      <td>0.59%</td>\n",
       "      <td>1,937,734</td>\n",
       "      <td>36</td>\n",
       "      <td>9,147,420</td>\n",
       "      <td>954,806</td>\n",
       "      <td>1.8</td>\n",
       "      <td>38.0</td>\n",
       "      <td>83%</td>\n",
       "      <td>4.25%</td>\n",
       "    </tr>\n",
       "    <tr>\n",
       "      <th>7</th>\n",
       "      <td>4.0</td>\n",
       "      <td>Indonesia</td>\n",
       "      <td>273,523,615</td>\n",
       "      <td>1.07%</td>\n",
       "      <td>2,898,047</td>\n",
       "      <td>151</td>\n",
       "      <td>1,811,570</td>\n",
       "      <td>-98,955</td>\n",
       "      <td>2.3</td>\n",
       "      <td>30.0</td>\n",
       "      <td>56%</td>\n",
       "      <td>3.51%</td>\n",
       "    </tr>\n",
       "    <tr>\n",
       "      <th>...</th>\n",
       "      <td>...</td>\n",
       "      <td>...</td>\n",
       "      <td>...</td>\n",
       "      <td>...</td>\n",
       "      <td>...</td>\n",
       "      <td>...</td>\n",
       "      <td>...</td>\n",
       "      <td>...</td>\n",
       "      <td>...</td>\n",
       "      <td>...</td>\n",
       "      <td>...</td>\n",
       "      <td>...</td>\n",
       "    </tr>\n",
       "    <tr>\n",
       "      <th>373</th>\n",
       "      <td>187.0</td>\n",
       "      <td>Mayotte</td>\n",
       "      <td>272,815</td>\n",
       "      <td>2.50%</td>\n",
       "      <td>6,665</td>\n",
       "      <td>728</td>\n",
       "      <td>375</td>\n",
       "      <td>0</td>\n",
       "      <td>3.7</td>\n",
       "      <td>20.0</td>\n",
       "      <td>46%</td>\n",
       "      <td>0.00%</td>\n",
       "    </tr>\n",
       "    <tr>\n",
       "      <th>375</th>\n",
       "      <td>188.0</td>\n",
       "      <td>Sao Tome &amp; Principe</td>\n",
       "      <td>219,159</td>\n",
       "      <td>1.91%</td>\n",
       "      <td>4,103</td>\n",
       "      <td>228</td>\n",
       "      <td>960</td>\n",
       "      <td>-1,680</td>\n",
       "      <td>4.4</td>\n",
       "      <td>19.0</td>\n",
       "      <td>74%</td>\n",
       "      <td>0.00%</td>\n",
       "    </tr>\n",
       "    <tr>\n",
       "      <th>377</th>\n",
       "      <td>189.0</td>\n",
       "      <td>Samoa</td>\n",
       "      <td>198,414</td>\n",
       "      <td>0.67%</td>\n",
       "      <td>1,317</td>\n",
       "      <td>70</td>\n",
       "      <td>2,830</td>\n",
       "      <td>-2,803</td>\n",
       "      <td>3.9</td>\n",
       "      <td>22.0</td>\n",
       "      <td>18%</td>\n",
       "      <td>0.00%</td>\n",
       "    </tr>\n",
       "    <tr>\n",
       "      <th>379</th>\n",
       "      <td>190.0</td>\n",
       "      <td>Saint Lucia</td>\n",
       "      <td>183,627</td>\n",
       "      <td>0.46%</td>\n",
       "      <td>837</td>\n",
       "      <td>301</td>\n",
       "      <td>610</td>\n",
       "      <td>0</td>\n",
       "      <td>1.4</td>\n",
       "      <td>34.0</td>\n",
       "      <td>19%</td>\n",
       "      <td>0.00%</td>\n",
       "    </tr>\n",
       "    <tr>\n",
       "      <th>381</th>\n",
       "      <td>191.0</td>\n",
       "      <td>Channel Islands</td>\n",
       "      <td>173,863</td>\n",
       "      <td>0.93%</td>\n",
       "      <td>1,604</td>\n",
       "      <td>915</td>\n",
       "      <td>190</td>\n",
       "      <td>1,351</td>\n",
       "      <td>1.5</td>\n",
       "      <td>43.0</td>\n",
       "      <td>30%</td>\n",
       "      <td>0.00%</td>\n",
       "    </tr>\n",
       "  </tbody>\n",
       "</table>\n",
       "<p>192 rows × 12 columns</p>\n",
       "</div>"
      ],
      "text/plain": [
       "         # Country (or dependency) Population (2020) Yearly Change  \\\n",
       "0      NaN                     NaN               NaN           NaN   \n",
       "1      1.0                   China     1,439,323,776         0.39%   \n",
       "3      2.0                   India     1,380,004,385         0.99%   \n",
       "5      3.0           United States       331,002,651         0.59%   \n",
       "7      4.0               Indonesia       273,523,615         1.07%   \n",
       "..     ...                     ...               ...           ...   \n",
       "373  187.0                 Mayotte           272,815         2.50%   \n",
       "375  188.0     Sao Tome & Principe           219,159         1.91%   \n",
       "377  189.0                   Samoa           198,414         0.67%   \n",
       "379  190.0             Saint Lucia           183,627         0.46%   \n",
       "381  191.0         Channel Islands           173,863         0.93%   \n",
       "\n",
       "     Net Change Density (P/Km�) Land Area (Km�) Migrants (net)  Fert. Rate  \\\n",
       "0           NaN             NaN             NaN            NaN         NaN   \n",
       "1     5,540,090             153       9,388,211       -348,399         1.7   \n",
       "3    13,586,631             464       2,973,190       -532,687         2.2   \n",
       "5     1,937,734              36       9,147,420        954,806         1.8   \n",
       "7     2,898,047             151       1,811,570        -98,955         2.3   \n",
       "..          ...             ...             ...            ...         ...   \n",
       "373       6,665             728             375              0         3.7   \n",
       "375       4,103             228             960         -1,680         4.4   \n",
       "377       1,317              70           2,830         -2,803         3.9   \n",
       "379         837             301             610              0         1.4   \n",
       "381       1,604             915             190          1,351         1.5   \n",
       "\n",
       "     Med. Age Urban Pop % World Share  \n",
       "0         NaN         NaN         NaN  \n",
       "1        38.0         61%      18.47%  \n",
       "3        28.0         35%      17.70%  \n",
       "5        38.0         83%       4.25%  \n",
       "7        30.0         56%       3.51%  \n",
       "..        ...         ...         ...  \n",
       "373      20.0         46%       0.00%  \n",
       "375      19.0         74%       0.00%  \n",
       "377      22.0         18%       0.00%  \n",
       "379      34.0         19%       0.00%  \n",
       "381      43.0         30%       0.00%  \n",
       "\n",
       "[192 rows x 12 columns]"
      ]
     },
     "execution_count": 82,
     "metadata": {},
     "output_type": "execute_result"
    }
   ],
   "source": [
    "population.drop_duplicates()    # here i am dropping duplicate values in rows."
   ]
  },
  {
   "cell_type": "code",
   "execution_count": 83,
   "id": "5f2325e0",
   "metadata": {},
   "outputs": [
    {
     "data": {
      "text/plain": [
       "#                          191\n",
       "Country (or dependency)    191\n",
       "Population (2020)          191\n",
       "Yearly Change              152\n",
       "Net Change                 191\n",
       "Density (P/Km�)            133\n",
       "Land Area (Km�)            190\n",
       "Migrants (net)             153\n",
       "Fert. Rate                  50\n",
       "Med. Age                    34\n",
       "Urban Pop %                 75\n",
       "World Share                 74\n",
       "dtype: int64"
      ]
     },
     "execution_count": 83,
     "metadata": {},
     "output_type": "execute_result"
    }
   ],
   "source": [
    "population.nunique()    # checking nuniqness in columns."
   ]
  },
  {
   "cell_type": "code",
   "execution_count": 84,
   "id": "c14241a5",
   "metadata": {},
   "outputs": [],
   "source": [
    "population = population.drop(['#'], axis=1)     # dropping unnecessary column."
   ]
  },
  {
   "cell_type": "markdown",
   "id": "0fd31532",
   "metadata": {},
   "source": [
    "## rename the columns appropriately."
   ]
  },
  {
   "cell_type": "code",
   "execution_count": 85,
   "id": "1773ef40",
   "metadata": {},
   "outputs": [
    {
     "data": {
      "text/html": [
       "<div>\n",
       "<style scoped>\n",
       "    .dataframe tbody tr th:only-of-type {\n",
       "        vertical-align: middle;\n",
       "    }\n",
       "\n",
       "    .dataframe tbody tr th {\n",
       "        vertical-align: top;\n",
       "    }\n",
       "\n",
       "    .dataframe thead th {\n",
       "        text-align: right;\n",
       "    }\n",
       "</style>\n",
       "<table border=\"1\" class=\"dataframe\">\n",
       "  <thead>\n",
       "    <tr style=\"text-align: right;\">\n",
       "      <th></th>\n",
       "      <th>country</th>\n",
       "      <th>population</th>\n",
       "      <th>yearly_change</th>\n",
       "      <th>net_change</th>\n",
       "      <th>density</th>\n",
       "      <th>land_area</th>\n",
       "      <th>migrants</th>\n",
       "      <th>fert_rate</th>\n",
       "      <th>med_age</th>\n",
       "      <th>urban_pop</th>\n",
       "      <th>world_share</th>\n",
       "    </tr>\n",
       "  </thead>\n",
       "  <tbody>\n",
       "    <tr>\n",
       "      <th>0</th>\n",
       "      <td>NaN</td>\n",
       "      <td>NaN</td>\n",
       "      <td>NaN</td>\n",
       "      <td>NaN</td>\n",
       "      <td>NaN</td>\n",
       "      <td>NaN</td>\n",
       "      <td>NaN</td>\n",
       "      <td>NaN</td>\n",
       "      <td>NaN</td>\n",
       "      <td>NaN</td>\n",
       "      <td>NaN</td>\n",
       "    </tr>\n",
       "    <tr>\n",
       "      <th>1</th>\n",
       "      <td>China</td>\n",
       "      <td>1,439,323,776</td>\n",
       "      <td>0.39%</td>\n",
       "      <td>5,540,090</td>\n",
       "      <td>153</td>\n",
       "      <td>9,388,211</td>\n",
       "      <td>-348,399</td>\n",
       "      <td>1.7</td>\n",
       "      <td>38.0</td>\n",
       "      <td>61%</td>\n",
       "      <td>18.47%</td>\n",
       "    </tr>\n",
       "    <tr>\n",
       "      <th>2</th>\n",
       "      <td>NaN</td>\n",
       "      <td>NaN</td>\n",
       "      <td>NaN</td>\n",
       "      <td>NaN</td>\n",
       "      <td>NaN</td>\n",
       "      <td>NaN</td>\n",
       "      <td>NaN</td>\n",
       "      <td>NaN</td>\n",
       "      <td>NaN</td>\n",
       "      <td>NaN</td>\n",
       "      <td>NaN</td>\n",
       "    </tr>\n",
       "    <tr>\n",
       "      <th>3</th>\n",
       "      <td>India</td>\n",
       "      <td>1,380,004,385</td>\n",
       "      <td>0.99%</td>\n",
       "      <td>13,586,631</td>\n",
       "      <td>464</td>\n",
       "      <td>2,973,190</td>\n",
       "      <td>-532,687</td>\n",
       "      <td>2.2</td>\n",
       "      <td>28.0</td>\n",
       "      <td>35%</td>\n",
       "      <td>17.70%</td>\n",
       "    </tr>\n",
       "    <tr>\n",
       "      <th>4</th>\n",
       "      <td>NaN</td>\n",
       "      <td>NaN</td>\n",
       "      <td>NaN</td>\n",
       "      <td>NaN</td>\n",
       "      <td>NaN</td>\n",
       "      <td>NaN</td>\n",
       "      <td>NaN</td>\n",
       "      <td>NaN</td>\n",
       "      <td>NaN</td>\n",
       "      <td>NaN</td>\n",
       "      <td>NaN</td>\n",
       "    </tr>\n",
       "    <tr>\n",
       "      <th>...</th>\n",
       "      <td>...</td>\n",
       "      <td>...</td>\n",
       "      <td>...</td>\n",
       "      <td>...</td>\n",
       "      <td>...</td>\n",
       "      <td>...</td>\n",
       "      <td>...</td>\n",
       "      <td>...</td>\n",
       "      <td>...</td>\n",
       "      <td>...</td>\n",
       "      <td>...</td>\n",
       "    </tr>\n",
       "    <tr>\n",
       "      <th>377</th>\n",
       "      <td>Samoa</td>\n",
       "      <td>198,414</td>\n",
       "      <td>0.67%</td>\n",
       "      <td>1,317</td>\n",
       "      <td>70</td>\n",
       "      <td>2,830</td>\n",
       "      <td>-2,803</td>\n",
       "      <td>3.9</td>\n",
       "      <td>22.0</td>\n",
       "      <td>18%</td>\n",
       "      <td>0.00%</td>\n",
       "    </tr>\n",
       "    <tr>\n",
       "      <th>378</th>\n",
       "      <td>NaN</td>\n",
       "      <td>NaN</td>\n",
       "      <td>NaN</td>\n",
       "      <td>NaN</td>\n",
       "      <td>NaN</td>\n",
       "      <td>NaN</td>\n",
       "      <td>NaN</td>\n",
       "      <td>NaN</td>\n",
       "      <td>NaN</td>\n",
       "      <td>NaN</td>\n",
       "      <td>NaN</td>\n",
       "    </tr>\n",
       "    <tr>\n",
       "      <th>379</th>\n",
       "      <td>Saint Lucia</td>\n",
       "      <td>183,627</td>\n",
       "      <td>0.46%</td>\n",
       "      <td>837</td>\n",
       "      <td>301</td>\n",
       "      <td>610</td>\n",
       "      <td>0</td>\n",
       "      <td>1.4</td>\n",
       "      <td>34.0</td>\n",
       "      <td>19%</td>\n",
       "      <td>0.00%</td>\n",
       "    </tr>\n",
       "    <tr>\n",
       "      <th>380</th>\n",
       "      <td>NaN</td>\n",
       "      <td>NaN</td>\n",
       "      <td>NaN</td>\n",
       "      <td>NaN</td>\n",
       "      <td>NaN</td>\n",
       "      <td>NaN</td>\n",
       "      <td>NaN</td>\n",
       "      <td>NaN</td>\n",
       "      <td>NaN</td>\n",
       "      <td>NaN</td>\n",
       "      <td>NaN</td>\n",
       "    </tr>\n",
       "    <tr>\n",
       "      <th>381</th>\n",
       "      <td>Channel Islands</td>\n",
       "      <td>173,863</td>\n",
       "      <td>0.93%</td>\n",
       "      <td>1,604</td>\n",
       "      <td>915</td>\n",
       "      <td>190</td>\n",
       "      <td>1,351</td>\n",
       "      <td>1.5</td>\n",
       "      <td>43.0</td>\n",
       "      <td>30%</td>\n",
       "      <td>0.00%</td>\n",
       "    </tr>\n",
       "  </tbody>\n",
       "</table>\n",
       "<p>382 rows × 11 columns</p>\n",
       "</div>"
      ],
      "text/plain": [
       "             country     population yearly_change  net_change density  \\\n",
       "0                NaN            NaN           NaN         NaN     NaN   \n",
       "1              China  1,439,323,776         0.39%   5,540,090     153   \n",
       "2                NaN            NaN           NaN         NaN     NaN   \n",
       "3              India  1,380,004,385         0.99%  13,586,631     464   \n",
       "4                NaN            NaN           NaN         NaN     NaN   \n",
       "..               ...            ...           ...         ...     ...   \n",
       "377            Samoa        198,414         0.67%       1,317      70   \n",
       "378              NaN            NaN           NaN         NaN     NaN   \n",
       "379      Saint Lucia        183,627         0.46%         837     301   \n",
       "380              NaN            NaN           NaN         NaN     NaN   \n",
       "381  Channel Islands        173,863         0.93%       1,604     915   \n",
       "\n",
       "     land_area  migrants  fert_rate  med_age urban_pop world_share  \n",
       "0          NaN       NaN        NaN      NaN       NaN         NaN  \n",
       "1    9,388,211  -348,399        1.7     38.0       61%      18.47%  \n",
       "2          NaN       NaN        NaN      NaN       NaN         NaN  \n",
       "3    2,973,190  -532,687        2.2     28.0       35%      17.70%  \n",
       "4          NaN       NaN        NaN      NaN       NaN         NaN  \n",
       "..         ...       ...        ...      ...       ...         ...  \n",
       "377      2,830    -2,803        3.9     22.0       18%       0.00%  \n",
       "378        NaN       NaN        NaN      NaN       NaN         NaN  \n",
       "379        610         0        1.4     34.0       19%       0.00%  \n",
       "380        NaN       NaN        NaN      NaN       NaN         NaN  \n",
       "381        190     1,351        1.5     43.0       30%       0.00%  \n",
       "\n",
       "[382 rows x 11 columns]"
      ]
     },
     "execution_count": 85,
     "metadata": {},
     "output_type": "execute_result"
    }
   ],
   "source": [
    "# here i am renaming all columns.\n",
    "population = population.rename(columns={'Country (or dependency)':'country','Population (2020)':'population','Yearly Change':'yearly_change','Net Change':'net_change','Density (P/Km�)':'density','Land Area (Km�)':'land_area','Migrants (net)':'migrants','Fert. Rate':'fert_rate','Med. Age':'med_age','Urban Pop %':'urban_pop','World Share':'world_share'})\n",
    "population"
   ]
  },
  {
   "cell_type": "code",
   "execution_count": 86,
   "id": "fcdf212a",
   "metadata": {},
   "outputs": [
    {
     "name": "stdout",
     "output_type": "stream",
     "text": [
      "<class 'pandas.core.frame.DataFrame'>\n",
      "RangeIndex: 382 entries, 0 to 381\n",
      "Data columns (total 11 columns):\n",
      " #   Column         Non-Null Count  Dtype  \n",
      "---  ------         --------------  -----  \n",
      " 0   country        191 non-null    object \n",
      " 1   population     191 non-null    object \n",
      " 2   yearly_change  191 non-null    object \n",
      " 3   net_change     191 non-null    object \n",
      " 4   density        191 non-null    object \n",
      " 5   land_area      191 non-null    object \n",
      " 6   migrants       191 non-null    object \n",
      " 7   fert_rate      191 non-null    float64\n",
      " 8   med_age        191 non-null    float64\n",
      " 9   urban_pop      191 non-null    object \n",
      " 10  world_share    191 non-null    object \n",
      "dtypes: float64(2), object(9)\n",
      "memory usage: 33.0+ KB\n"
     ]
    }
   ],
   "source": [
    "population.info()      # here i am checking Datatype of all columns."
   ]
  },
  {
   "cell_type": "code",
   "execution_count": 87,
   "id": "0c3ae5b8",
   "metadata": {},
   "outputs": [],
   "source": [
    "# here i am using coerce method to convert object into float or int.\n",
    "# but in population column i did face problem to convert it.\n",
    "\n",
    "population['yearly_change'] = pd.to_numeric(population['yearly_change'], errors='coerce')\n",
    "population['net_change'] = pd.to_numeric(population['net_change'], errors='coerce')\n",
    "population['density'] = pd.to_numeric(population['density'], errors='coerce')\n",
    "population['land_area'] = pd.to_numeric(population['land_area'], errors='coerce')\n",
    "population['migrants'] = pd.to_numeric(population['migrants'], errors='coerce')\n",
    "population['urban_pop'] = pd.to_numeric(population['urban_pop'], errors='coerce')\n",
    "population['world_share'] = pd.to_numeric(population['world_share'], errors='coerce')\n",
    "#population['population'] = pd.to_numeric(population['population'], errors='coerce')"
   ]
  },
  {
   "cell_type": "code",
   "execution_count": 88,
   "id": "8bfc68d1",
   "metadata": {},
   "outputs": [],
   "source": [
    "# here i am changing datatype of all columns.\n",
    "\n",
    "population['country'] = population['country'].astype('category')\n",
    "population['yearly_change'] = population['yearly_change'].astype('float')\n",
    "population['net_change'] = population['net_change'].astype('float')\n",
    "#population['population'] = population['population'].astype('float')\n",
    "population['density'] = population['density'].astype('float')\n",
    "population['land_area'] = population['land_area'].astype('float')\n",
    "population['migrants'] = population['migrants'].astype('float')"
   ]
  },
  {
   "cell_type": "code",
   "execution_count": 90,
   "id": "a0dfe4d0",
   "metadata": {},
   "outputs": [
    {
     "data": {
      "text/html": [
       "<div>\n",
       "<style scoped>\n",
       "    .dataframe tbody tr th:only-of-type {\n",
       "        vertical-align: middle;\n",
       "    }\n",
       "\n",
       "    .dataframe tbody tr th {\n",
       "        vertical-align: top;\n",
       "    }\n",
       "\n",
       "    .dataframe thead th {\n",
       "        text-align: right;\n",
       "    }\n",
       "</style>\n",
       "<table border=\"1\" class=\"dataframe\">\n",
       "  <thead>\n",
       "    <tr style=\"text-align: right;\">\n",
       "      <th></th>\n",
       "      <th>country</th>\n",
       "      <th>population</th>\n",
       "      <th>yearly_change</th>\n",
       "      <th>net_change</th>\n",
       "      <th>density</th>\n",
       "      <th>land_area</th>\n",
       "      <th>migrants</th>\n",
       "      <th>fert_rate</th>\n",
       "      <th>med_age</th>\n",
       "      <th>urban_pop</th>\n",
       "      <th>world_share</th>\n",
       "    </tr>\n",
       "  </thead>\n",
       "  <tbody>\n",
       "    <tr>\n",
       "      <th>count</th>\n",
       "      <td>191</td>\n",
       "      <td>191</td>\n",
       "      <td>0.0</td>\n",
       "      <td>8.000000</td>\n",
       "      <td>184.000000</td>\n",
       "      <td>11.000000</td>\n",
       "      <td>16.000000</td>\n",
       "      <td>191.000000</td>\n",
       "      <td>191.000000</td>\n",
       "      <td>0.0</td>\n",
       "      <td>0.0</td>\n",
       "    </tr>\n",
       "    <tr>\n",
       "      <th>unique</th>\n",
       "      <td>191</td>\n",
       "      <td>191</td>\n",
       "      <td>NaN</td>\n",
       "      <td>NaN</td>\n",
       "      <td>NaN</td>\n",
       "      <td>NaN</td>\n",
       "      <td>NaN</td>\n",
       "      <td>NaN</td>\n",
       "      <td>NaN</td>\n",
       "      <td>NaN</td>\n",
       "      <td>NaN</td>\n",
       "    </tr>\n",
       "    <tr>\n",
       "      <th>top</th>\n",
       "      <td>Afghanistan</td>\n",
       "      <td>126,476,461</td>\n",
       "      <td>NaN</td>\n",
       "      <td>NaN</td>\n",
       "      <td>NaN</td>\n",
       "      <td>NaN</td>\n",
       "      <td>NaN</td>\n",
       "      <td>NaN</td>\n",
       "      <td>NaN</td>\n",
       "      <td>NaN</td>\n",
       "      <td>NaN</td>\n",
       "    </tr>\n",
       "    <tr>\n",
       "      <th>freq</th>\n",
       "      <td>1</td>\n",
       "      <td>1</td>\n",
       "      <td>NaN</td>\n",
       "      <td>NaN</td>\n",
       "      <td>NaN</td>\n",
       "      <td>NaN</td>\n",
       "      <td>NaN</td>\n",
       "      <td>NaN</td>\n",
       "      <td>NaN</td>\n",
       "      <td>NaN</td>\n",
       "      <td>NaN</td>\n",
       "    </tr>\n",
       "    <tr>\n",
       "      <th>mean</th>\n",
       "      <td>NaN</td>\n",
       "      <td>NaN</td>\n",
       "      <td>NaN</td>\n",
       "      <td>266.375000</td>\n",
       "      <td>141.059783</td>\n",
       "      <td>488.636364</td>\n",
       "      <td>-53.062500</td>\n",
       "      <td>2.708901</td>\n",
       "      <td>30.471204</td>\n",
       "      <td>NaN</td>\n",
       "      <td>NaN</td>\n",
       "    </tr>\n",
       "    <tr>\n",
       "      <th>std</th>\n",
       "      <td>NaN</td>\n",
       "      <td>NaN</td>\n",
       "      <td>NaN</td>\n",
       "      <td>418.237778</td>\n",
       "      <td>174.396608</td>\n",
       "      <td>279.249807</td>\n",
       "      <td>591.737495</td>\n",
       "      <td>1.286396</td>\n",
       "      <td>9.198281</td>\n",
       "      <td>NaN</td>\n",
       "      <td>NaN</td>\n",
       "    </tr>\n",
       "    <tr>\n",
       "      <th>min</th>\n",
       "      <td>NaN</td>\n",
       "      <td>NaN</td>\n",
       "      <td>NaN</td>\n",
       "      <td>-289.000000</td>\n",
       "      <td>2.000000</td>\n",
       "      <td>30.000000</td>\n",
       "      <td>-960.000000</td>\n",
       "      <td>1.100000</td>\n",
       "      <td>15.000000</td>\n",
       "      <td>NaN</td>\n",
       "      <td>NaN</td>\n",
       "    </tr>\n",
       "    <tr>\n",
       "      <th>25%</th>\n",
       "      <td>NaN</td>\n",
       "      <td>NaN</td>\n",
       "      <td>NaN</td>\n",
       "      <td>29.750000</td>\n",
       "      <td>29.000000</td>\n",
       "      <td>310.000000</td>\n",
       "      <td>-560.000000</td>\n",
       "      <td>1.700000</td>\n",
       "      <td>22.000000</td>\n",
       "      <td>NaN</td>\n",
       "      <td>NaN</td>\n",
       "    </tr>\n",
       "    <tr>\n",
       "      <th>50%</th>\n",
       "      <td>NaN</td>\n",
       "      <td>NaN</td>\n",
       "      <td>NaN</td>\n",
       "      <td>181.500000</td>\n",
       "      <td>80.000000</td>\n",
       "      <td>430.000000</td>\n",
       "      <td>0.000000</td>\n",
       "      <td>2.300000</td>\n",
       "      <td>30.000000</td>\n",
       "      <td>NaN</td>\n",
       "      <td>NaN</td>\n",
       "    </tr>\n",
       "    <tr>\n",
       "      <th>75%</th>\n",
       "      <td>NaN</td>\n",
       "      <td>NaN</td>\n",
       "      <td>NaN</td>\n",
       "      <td>471.750000</td>\n",
       "      <td>156.500000</td>\n",
       "      <td>700.000000</td>\n",
       "      <td>335.000000</td>\n",
       "      <td>3.600000</td>\n",
       "      <td>39.000000</td>\n",
       "      <td>NaN</td>\n",
       "      <td>NaN</td>\n",
       "    </tr>\n",
       "    <tr>\n",
       "      <th>max</th>\n",
       "      <td>NaN</td>\n",
       "      <td>NaN</td>\n",
       "      <td>NaN</td>\n",
       "      <td>887.000000</td>\n",
       "      <td>915.000000</td>\n",
       "      <td>960.000000</td>\n",
       "      <td>900.000000</td>\n",
       "      <td>7.000000</td>\n",
       "      <td>48.000000</td>\n",
       "      <td>NaN</td>\n",
       "      <td>NaN</td>\n",
       "    </tr>\n",
       "  </tbody>\n",
       "</table>\n",
       "</div>"
      ],
      "text/plain": [
       "            country   population  yearly_change  net_change     density  \\\n",
       "count           191          191            0.0    8.000000  184.000000   \n",
       "unique          191          191            NaN         NaN         NaN   \n",
       "top     Afghanistan  126,476,461            NaN         NaN         NaN   \n",
       "freq              1            1            NaN         NaN         NaN   \n",
       "mean            NaN          NaN            NaN  266.375000  141.059783   \n",
       "std             NaN          NaN            NaN  418.237778  174.396608   \n",
       "min             NaN          NaN            NaN -289.000000    2.000000   \n",
       "25%             NaN          NaN            NaN   29.750000   29.000000   \n",
       "50%             NaN          NaN            NaN  181.500000   80.000000   \n",
       "75%             NaN          NaN            NaN  471.750000  156.500000   \n",
       "max             NaN          NaN            NaN  887.000000  915.000000   \n",
       "\n",
       "         land_area    migrants   fert_rate     med_age  urban_pop  world_share  \n",
       "count    11.000000   16.000000  191.000000  191.000000        0.0          0.0  \n",
       "unique         NaN         NaN         NaN         NaN        NaN          NaN  \n",
       "top            NaN         NaN         NaN         NaN        NaN          NaN  \n",
       "freq           NaN         NaN         NaN         NaN        NaN          NaN  \n",
       "mean    488.636364  -53.062500    2.708901   30.471204        NaN          NaN  \n",
       "std     279.249807  591.737495    1.286396    9.198281        NaN          NaN  \n",
       "min      30.000000 -960.000000    1.100000   15.000000        NaN          NaN  \n",
       "25%     310.000000 -560.000000    1.700000   22.000000        NaN          NaN  \n",
       "50%     430.000000    0.000000    2.300000   30.000000        NaN          NaN  \n",
       "75%     700.000000  335.000000    3.600000   39.000000        NaN          NaN  \n",
       "max     960.000000  900.000000    7.000000   48.000000        NaN          NaN  "
      ]
     },
     "execution_count": 90,
     "metadata": {},
     "output_type": "execute_result"
    }
   ],
   "source": [
    "population.describe(include='all')    # so, this is summary of all columns."
   ]
  },
  {
   "cell_type": "markdown",
   "id": "cec9c545",
   "metadata": {},
   "source": [
    "## report if there is any missing value in the dataset. (Do not remove or fill it)"
   ]
  },
  {
   "cell_type": "code",
   "execution_count": 91,
   "id": "518153a1",
   "metadata": {},
   "outputs": [
    {
     "data": {
      "text/plain": [
       "<AxesSubplot:>"
      ]
     },
     "execution_count": 91,
     "metadata": {},
     "output_type": "execute_result"
    },
    {
     "data": {
      "image/png": "[encoded data removed]",
      "text/plain": [
       "<Figure size 1800x720 with 3 Axes>"
      ]
     },
     "metadata": {
      "needs_background": "light"
     },
     "output_type": "display_data"
    }
   ],
   "source": [
    "msno.bar(population)    # here i am finding missing values in it.\n",
    "                        # every columns contains lot's of missing values."
   ]
  },
  {
   "cell_type": "code",
   "execution_count": 92,
   "id": "fe8eb284",
   "metadata": {},
   "outputs": [
    {
     "data": {
      "text/plain": [
       "<AxesSubplot:>"
      ]
     },
     "execution_count": 92,
     "metadata": {},
     "output_type": "execute_result"
    },
    {
     "data": {
      "image/png": "[encoded data removed]",
      "text/plain": [
       "<Figure size 1800x720 with 2 Axes>"
      ]
     },
     "metadata": {
      "needs_background": "light"
     },
     "output_type": "display_data"
    }
   ],
   "source": [
    "msno.matrix(population)    # here i am checking the pattern in it."
   ]
  },
  {
   "cell_type": "code",
   "execution_count": 93,
   "id": "54b15b45",
   "metadata": {},
   "outputs": [
    {
     "data": {
      "text/plain": [
       "<AxesSubplot:>"
      ]
     },
     "execution_count": 93,
     "metadata": {},
     "output_type": "execute_result"
    },
    {
     "data": {
      "image/png": "[encoded data removed]",
      "text/plain": [
       "<Figure size 1440x864 with 2 Axes>"
      ]
     },
     "metadata": {
      "needs_background": "light"
     },
     "output_type": "display_data"
    }
   ],
   "source": [
    "msno.heatmap(population)    # usig heat map to understand the coorelation between all the columns."
   ]
  },
  {
   "cell_type": "code",
   "execution_count": 94,
   "id": "06657f00",
   "metadata": {},
   "outputs": [
    {
     "data": {
      "text/plain": [
       "<seaborn.axisgrid.PairGrid at 0x1df807a0760>"
      ]
     },
     "execution_count": 94,
     "metadata": {},
     "output_type": "execute_result"
    },
    {
     "data": {
      "image/png": "[encoded data removed]",
      "text/plain": [
       "<Figure size 1620x1620 with 90 Axes>"
      ]
     },
     "metadata": {
      "needs_background": "light"
     },
     "output_type": "display_data"
    }
   ],
   "source": [
    "sns.pairplot(population)   # using pair plot to know the relation of all the columns and skewness."
   ]
  },
  {
   "cell_type": "code",
   "execution_count": 97,
   "id": "7bbe6f3a",
   "metadata": {},
   "outputs": [
    {
     "name": "stderr",
     "output_type": "stream",
     "text": [
      "C:\\anaconda\\lib\\site-packages\\seaborn\\distributions.py:306: UserWarning: Dataset has 0 variance; skipping density estimate.\n",
      "  warnings.warn(msg, UserWarning)\n"
     ]
    },
    {
     "data": {
      "text/plain": [
       "<matplotlib.lines.Line2D at 0x1df851a3340>"
      ]
     },
     "execution_count": 97,
     "metadata": {},
     "output_type": "execute_result"
    },
    {
     "data": {
      "image/png": "[encoded data removed]",
      "text/plain": [
       "<Figure size 432x288 with 1 Axes>"
      ]
     },
     "metadata": {
      "needs_background": "light"
     },
     "output_type": "display_data"
    }
   ],
   "source": [
    "# here i am chcking yearly change column but here i did not find exact answer.\n",
    "sns.histplot(data=population['yearly_change'],kde=True)\n",
    "plt.axvline(x=population.yearly_change.mean(),c='red', alpha=0.5, label='mean')\n",
    "plt.axvline(x=population.yearly_change.median(), c='blue', alpha= 0.5, ls='--', label='median')"
   ]
  },
  {
   "cell_type": "code",
   "execution_count": 98,
   "id": "8304618e",
   "metadata": {},
   "outputs": [
    {
     "data": {
      "text/plain": [
       "<matplotlib.lines.Line2D at 0x1df851f6f40>"
      ]
     },
     "execution_count": 98,
     "metadata": {},
     "output_type": "execute_result"
    },
    {
     "data": {
      "image/png": "[encoded data removed]",
      "text/plain": [
       "<Figure size 432x288 with 1 Axes>"
      ]
     },
     "metadata": {
      "needs_background": "light"
     },
     "output_type": "display_data"
    }
   ],
   "source": [
    "# here we can see net change is slightly similar to normal.\n",
    "sns.histplot(data=population['net_change'],kde=True)\n",
    "plt.axvline(x=population.net_change.mean(),c='red', alpha=0.5, label='mean')\n",
    "plt.axvline(x=population.net_change.median(), c='blue', alpha= 0.5, ls='--', label='median')"
   ]
  },
  {
   "cell_type": "code",
   "execution_count": 99,
   "id": "bb218f9f",
   "metadata": {},
   "outputs": [
    {
     "data": {
      "text/plain": [
       "<matplotlib.lines.Line2D at 0x1df85259af0>"
      ]
     },
     "execution_count": 99,
     "metadata": {},
     "output_type": "execute_result"
    },
    {
     "data": {
      "image/png": "[encoded data removed]",
      "text/plain": [
       "<Figure size 432x288 with 1 Axes>"
      ]
     },
     "metadata": {
      "needs_background": "light"
     },
     "output_type": "display_data"
    }
   ],
   "source": [
    "# here we can see density column is going rightward.\n",
    "# and it is positive in relation.\n",
    "sns.histplot(data=population['density'],kde=True)\n",
    "plt.axvline(x=population.density.mean(),c='red', alpha=0.5, label='mean')\n",
    "plt.axvline(x=population.density.median(), c='blue', alpha= 0.5, ls='--', label='median')"
   ]
  },
  {
   "cell_type": "code",
   "execution_count": 100,
   "id": "5ca6ace9",
   "metadata": {},
   "outputs": [
    {
     "data": {
      "text/plain": [
       "<matplotlib.lines.Line2D at 0x1df81798dc0>"
      ]
     },
     "execution_count": 100,
     "metadata": {},
     "output_type": "execute_result"
    },
    {
     "data": {
      "image/png": "[encoded data removed]",
      "text/plain": [
       "<Figure size 432x288 with 1 Axes>"
      ]
     },
     "metadata": {
      "needs_background": "light"
     },
     "output_type": "display_data"
    }
   ],
   "source": [
    "# checking migrant column but it is normally distributed. so, ther is no issue.\n",
    "sns.histplot(data=population['migrants'],kde=True)\n",
    "plt.axvline(x=population.migrants.mean(),c='red', alpha=0.5, label='mean')\n",
    "plt.axvline(x=population.migrants.median(), c='blue', alpha= 0.5, ls='--', label='median')"
   ]
  },
  {
   "cell_type": "code",
   "execution_count": 101,
   "id": "4adee6f6",
   "metadata": {},
   "outputs": [
    {
     "data": {
      "text/plain": [
       "<matplotlib.lines.Line2D at 0x1df807e44c0>"
      ]
     },
     "execution_count": 101,
     "metadata": {},
     "output_type": "execute_result"
    },
    {
     "data": {
      "image/png": "[encoded data removed]",
      "text/plain": [
       "<Figure size 432x288 with 1 Axes>"
      ]
     },
     "metadata": {
      "needs_background": "light"
     },
     "output_type": "display_data"
    }
   ],
   "source": [
    "# here we can see that fertilty rate column is moving rightward or it is right skewed.\n",
    "sns.histplot(data=population['fert_rate'],kde=True)\n",
    "plt.axvline(x=population.fert_rate.mean(),c='red', alpha=0.5, label='mean')\n",
    "plt.axvline(x=population.fert_rate.median(), c='blue', alpha= 0.5, ls='--', label='median')"
   ]
  },
  {
   "cell_type": "code",
   "execution_count": 102,
   "id": "2a2cbb1f",
   "metadata": {},
   "outputs": [
    {
     "data": {
      "text/plain": [
       "<matplotlib.lines.Line2D at 0x1df84ff3520>"
      ]
     },
     "execution_count": 102,
     "metadata": {},
     "output_type": "execute_result"
    },
    {
     "data": {
      "image/png": "[encoded data removed]",
      "text/plain": [
       "<Figure size 432x288 with 1 Axes>"
      ]
     },
     "metadata": {
      "needs_background": "light"
     },
     "output_type": "display_data"
    }
   ],
   "source": [
    "# the land area column is also normally distributed.\n",
    "sns.histplot(data=population['land_area'],kde=True)\n",
    "plt.axvline(x=population.land_area.mean(),c='red', alpha=0.5, label='mean')\n",
    "plt.axvline(x=population.land_area.median(), c='blue', alpha= 0.5, ls='--', label='median')"
   ]
  },
  {
   "cell_type": "code",
   "execution_count": 103,
   "id": "ca6c36c1",
   "metadata": {},
   "outputs": [
    {
     "data": {
      "text/plain": [
       "<matplotlib.lines.Line2D at 0x1df8439fdf0>"
      ]
     },
     "execution_count": 103,
     "metadata": {},
     "output_type": "execute_result"
    },
    {
     "data": {
      "image/png": "[encoded data removed]",
      "text/plain": [
       "<Figure size 432x288 with 1 Axes>"
      ]
     },
     "metadata": {
      "needs_background": "light"
     },
     "output_type": "display_data"
    }
   ],
   "source": [
    "# med_age column is normally distributed.\n",
    "sns.histplot(data=population['med_age'],kde=True)\n",
    "plt.axvline(x=population.med_age.mean(),c='red', alpha=0.5, label='mean')\n",
    "plt.axvline(x=population.med_age.median(), c='blue', alpha= 0.5, ls='--', label='median')"
   ]
  },
  {
   "cell_type": "code",
   "execution_count": 105,
   "id": "2ea6bac7",
   "metadata": {},
   "outputs": [
    {
     "name": "stderr",
     "output_type": "stream",
     "text": [
      "C:\\anaconda\\lib\\site-packages\\seaborn\\distributions.py:306: UserWarning: Dataset has 0 variance; skipping density estimate.\n",
      "  warnings.warn(msg, UserWarning)\n"
     ]
    },
    {
     "data": {
      "text/plain": [
       "<matplotlib.lines.Line2D at 0x1df8636d9a0>"
      ]
     },
     "execution_count": 105,
     "metadata": {},
     "output_type": "execute_result"
    },
    {
     "data": {
      "image/png": "[encoded data removed]",
      "text/plain": [
       "<Figure size 432x288 with 1 Axes>"
      ]
     },
     "metadata": {
      "needs_background": "light"
     },
     "output_type": "display_data"
    }
   ],
   "source": [
    "# here i did not get result in world share column.\n",
    "sns.histplot(data=population['world_share'],kde=True)\n",
    "plt.axvline(x=population.world_share.mean(),c='red', alpha=0.5, label='mean')\n",
    "plt.axvline(x=population.world_share.median(), c='blue', alpha= 0.5, ls='--', label='median')"
   ]
  },
  {
   "cell_type": "markdown",
   "id": "3c195e9c",
   "metadata": {},
   "source": [
    "## report number of rows and columns"
   ]
  },
  {
   "cell_type": "code",
   "execution_count": 106,
   "id": "017b6105",
   "metadata": {},
   "outputs": [
    {
     "data": {
      "text/plain": [
       "(382, 11)"
      ]
     },
     "execution_count": 106,
     "metadata": {},
     "output_type": "execute_result"
    }
   ],
   "source": [
    "# here we have 382 rows and 11 columns.\n",
    "\n",
    "population.shape"
   ]
  },
  {
   "cell_type": "markdown",
   "id": "b6a9f39d",
   "metadata": {},
   "source": [
    "## report the top three countries based on the density column."
   ]
  },
  {
   "cell_type": "code",
   "execution_count": 107,
   "id": "9b8753ff",
   "metadata": {},
   "outputs": [],
   "source": [
    "top = population[['country','density']]  # selecting two column for further analysis."
   ]
  },
  {
   "cell_type": "code",
   "execution_count": 108,
   "id": "2bf693e7",
   "metadata": {},
   "outputs": [
    {
     "data": {
      "text/html": [
       "<div>\n",
       "<style scoped>\n",
       "    .dataframe tbody tr th:only-of-type {\n",
       "        vertical-align: middle;\n",
       "    }\n",
       "\n",
       "    .dataframe tbody tr th {\n",
       "        vertical-align: top;\n",
       "    }\n",
       "\n",
       "    .dataframe thead th {\n",
       "        text-align: right;\n",
       "    }\n",
       "</style>\n",
       "<table border=\"1\" class=\"dataframe\">\n",
       "  <thead>\n",
       "    <tr style=\"text-align: right;\">\n",
       "      <th></th>\n",
       "      <th>country</th>\n",
       "      <th>density</th>\n",
       "    </tr>\n",
       "  </thead>\n",
       "  <tbody>\n",
       "    <tr>\n",
       "      <th>381</th>\n",
       "      <td>Channel Islands</td>\n",
       "      <td>915.0</td>\n",
       "    </tr>\n",
       "    <tr>\n",
       "      <th>241</th>\n",
       "      <td>State of Palestine</td>\n",
       "      <td>847.0</td>\n",
       "    </tr>\n",
       "    <tr>\n",
       "      <th>345</th>\n",
       "      <td>Micronesia</td>\n",
       "      <td>784.0</td>\n",
       "    </tr>\n",
       "  </tbody>\n",
       "</table>\n",
       "</div>"
      ],
      "text/plain": [
       "                country  density\n",
       "381     Channel Islands    915.0\n",
       "241  State of Palestine    847.0\n",
       "345          Micronesia    784.0"
      ]
     },
     "execution_count": 108,
     "metadata": {},
     "output_type": "execute_result"
    }
   ],
   "source": [
    "# checking highest top 3 density in countries.\n",
    "top_3 = top.nlargest(3,'density')\n",
    "top_3"
   ]
  },
  {
   "cell_type": "markdown",
   "id": "080cffc4",
   "metadata": {},
   "source": [
    "## Which country has the highest fertility rate and which country has the lowest fertility rate?"
   ]
  },
  {
   "cell_type": "code",
   "execution_count": 109,
   "id": "386657cd",
   "metadata": {},
   "outputs": [],
   "source": [
    "fert_rate = population[['country','fert_rate']]      # selecting two column for further analysis."
   ]
  },
  {
   "cell_type": "code",
   "execution_count": 110,
   "id": "34ca11a3",
   "metadata": {},
   "outputs": [
    {
     "data": {
      "text/html": [
       "<div>\n",
       "<style scoped>\n",
       "    .dataframe tbody tr th:only-of-type {\n",
       "        vertical-align: middle;\n",
       "    }\n",
       "\n",
       "    .dataframe tbody tr th {\n",
       "        vertical-align: top;\n",
       "    }\n",
       "\n",
       "    .dataframe thead th {\n",
       "        text-align: right;\n",
       "    }\n",
       "</style>\n",
       "<table border=\"1\" class=\"dataframe\">\n",
       "  <thead>\n",
       "    <tr style=\"text-align: right;\">\n",
       "      <th></th>\n",
       "      <th>country</th>\n",
       "      <th>fert_rate</th>\n",
       "    </tr>\n",
       "  </thead>\n",
       "  <tbody>\n",
       "    <tr>\n",
       "      <th>55</th>\n",
       "      <td>South Korea</td>\n",
       "      <td>1.1</td>\n",
       "    </tr>\n",
       "  </tbody>\n",
       "</table>\n",
       "</div>"
      ],
      "text/plain": [
       "        country  fert_rate\n",
       "55  South Korea        1.1"
      ]
     },
     "execution_count": 110,
     "metadata": {},
     "output_type": "execute_result"
    }
   ],
   "source": [
    "fert_rate.nsmallest(1,'fert_rate')   # taking less fert_rate country."
   ]
  },
  {
   "cell_type": "code",
   "execution_count": 111,
   "id": "c0e9a77d",
   "metadata": {},
   "outputs": [
    {
     "data": {
      "text/html": [
       "<div>\n",
       "<style scoped>\n",
       "    .dataframe tbody tr th:only-of-type {\n",
       "        vertical-align: middle;\n",
       "    }\n",
       "\n",
       "    .dataframe tbody tr th {\n",
       "        vertical-align: top;\n",
       "    }\n",
       "\n",
       "    .dataframe thead th {\n",
       "        text-align: right;\n",
       "    }\n",
       "</style>\n",
       "<table border=\"1\" class=\"dataframe\">\n",
       "  <thead>\n",
       "    <tr style=\"text-align: right;\">\n",
       "      <th></th>\n",
       "      <th>country</th>\n",
       "      <th>fert_rate</th>\n",
       "    </tr>\n",
       "  </thead>\n",
       "  <tbody>\n",
       "    <tr>\n",
       "      <th>111</th>\n",
       "      <td>Niger</td>\n",
       "      <td>7.0</td>\n",
       "    </tr>\n",
       "  </tbody>\n",
       "</table>\n",
       "</div>"
      ],
      "text/plain": [
       "    country  fert_rate\n",
       "111   Niger        7.0"
      ]
     },
     "execution_count": 111,
     "metadata": {},
     "output_type": "execute_result"
    }
   ],
   "source": [
    "fert_rate.nlargest(1,'fert_rate')    # taking highest fert_rate country."
   ]
  },
  {
   "cell_type": "markdown",
   "id": "3a9a4692",
   "metadata": {},
   "source": [
    "## Create appropriate graphs to examine the distribution of Population, median age and Urban population and Yearly change."
   ]
  },
  {
   "cell_type": "code",
   "execution_count": 112,
   "id": "86eda69c",
   "metadata": {},
   "outputs": [],
   "source": [
    "pair_plot = population[['population','med_age','urban_pop','yearly_change']]    # selecting four column for further analysis"
   ]
  },
  {
   "cell_type": "code",
   "execution_count": 113,
   "id": "0ba61656",
   "metadata": {},
   "outputs": [
    {
     "data": {
      "text/plain": [
       "<seaborn.axisgrid.PairGrid at 0x1df86353fd0>"
      ]
     },
     "execution_count": 113,
     "metadata": {},
     "output_type": "execute_result"
    },
    {
     "data": {
      "image/png": "[encoded data removed]",
      "text/plain": [
       "<Figure size 540x540 with 12 Axes>"
      ]
     },
     "metadata": {
      "needs_background": "light"
     },
     "output_type": "display_data"
    }
   ],
   "source": [
    "sns.pairplot(pair_plot)    # using pair plot to check the numeric relationship and histogram plot also.\n",
    "                           # i have used this plot because it is easy to understand, handle etc."
   ]
  },
  {
   "cell_type": "markdown",
   "id": "2e8c9a15",
   "metadata": {},
   "source": [
    "## sort the population column based on lowest populated countries."
   ]
  },
  {
   "cell_type": "code",
   "execution_count": 114,
   "id": "36a73fd8",
   "metadata": {},
   "outputs": [
    {
     "data": {
      "text/html": [
       "<div>\n",
       "<style scoped>\n",
       "    .dataframe tbody tr th:only-of-type {\n",
       "        vertical-align: middle;\n",
       "    }\n",
       "\n",
       "    .dataframe tbody tr th {\n",
       "        vertical-align: top;\n",
       "    }\n",
       "\n",
       "    .dataframe thead th {\n",
       "        text-align: right;\n",
       "    }\n",
       "</style>\n",
       "<table border=\"1\" class=\"dataframe\">\n",
       "  <thead>\n",
       "    <tr style=\"text-align: right;\">\n",
       "      <th></th>\n",
       "      <th>country</th>\n",
       "      <th>population</th>\n",
       "      <th>yearly_change</th>\n",
       "      <th>net_change</th>\n",
       "      <th>density</th>\n",
       "      <th>land_area</th>\n",
       "      <th>migrants</th>\n",
       "      <th>fert_rate</th>\n",
       "      <th>med_age</th>\n",
       "      <th>urban_pop</th>\n",
       "      <th>world_share</th>\n",
       "    </tr>\n",
       "  </thead>\n",
       "  <tbody>\n",
       "    <tr>\n",
       "      <th>317</th>\n",
       "      <td>Eswatini</td>\n",
       "      <td>1,160,164</td>\n",
       "      <td>NaN</td>\n",
       "      <td>NaN</td>\n",
       "      <td>67.0</td>\n",
       "      <td>NaN</td>\n",
       "      <td>NaN</td>\n",
       "      <td>3.0</td>\n",
       "      <td>21.0</td>\n",
       "      <td>NaN</td>\n",
       "      <td>NaN</td>\n",
       "    </tr>\n",
       "    <tr>\n",
       "      <th>315</th>\n",
       "      <td>Cyprus</td>\n",
       "      <td>1,207,359</td>\n",
       "      <td>NaN</td>\n",
       "      <td>NaN</td>\n",
       "      <td>131.0</td>\n",
       "      <td>NaN</td>\n",
       "      <td>NaN</td>\n",
       "      <td>1.3</td>\n",
       "      <td>37.0</td>\n",
       "      <td>NaN</td>\n",
       "      <td>NaN</td>\n",
       "    </tr>\n",
       "    <tr>\n",
       "      <th>313</th>\n",
       "      <td>Mauritius</td>\n",
       "      <td>1,271,768</td>\n",
       "      <td>NaN</td>\n",
       "      <td>NaN</td>\n",
       "      <td>626.0</td>\n",
       "      <td>NaN</td>\n",
       "      <td>0.0</td>\n",
       "      <td>1.4</td>\n",
       "      <td>37.0</td>\n",
       "      <td>NaN</td>\n",
       "      <td>NaN</td>\n",
       "    </tr>\n",
       "    <tr>\n",
       "      <th>311</th>\n",
       "      <td>Timor-Leste</td>\n",
       "      <td>1,318,445</td>\n",
       "      <td>NaN</td>\n",
       "      <td>NaN</td>\n",
       "      <td>89.0</td>\n",
       "      <td>NaN</td>\n",
       "      <td>NaN</td>\n",
       "      <td>4.1</td>\n",
       "      <td>21.0</td>\n",
       "      <td>NaN</td>\n",
       "      <td>NaN</td>\n",
       "    </tr>\n",
       "    <tr>\n",
       "      <th>309</th>\n",
       "      <td>Estonia</td>\n",
       "      <td>1,326,535</td>\n",
       "      <td>NaN</td>\n",
       "      <td>887.0</td>\n",
       "      <td>31.0</td>\n",
       "      <td>NaN</td>\n",
       "      <td>NaN</td>\n",
       "      <td>1.6</td>\n",
       "      <td>42.0</td>\n",
       "      <td>NaN</td>\n",
       "      <td>NaN</td>\n",
       "    </tr>\n",
       "    <tr>\n",
       "      <th>...</th>\n",
       "      <td>...</td>\n",
       "      <td>...</td>\n",
       "      <td>...</td>\n",
       "      <td>...</td>\n",
       "      <td>...</td>\n",
       "      <td>...</td>\n",
       "      <td>...</td>\n",
       "      <td>...</td>\n",
       "      <td>...</td>\n",
       "      <td>...</td>\n",
       "      <td>...</td>\n",
       "    </tr>\n",
       "    <tr>\n",
       "      <th>372</th>\n",
       "      <td>NaN</td>\n",
       "      <td>NaN</td>\n",
       "      <td>NaN</td>\n",
       "      <td>NaN</td>\n",
       "      <td>NaN</td>\n",
       "      <td>NaN</td>\n",
       "      <td>NaN</td>\n",
       "      <td>NaN</td>\n",
       "      <td>NaN</td>\n",
       "      <td>NaN</td>\n",
       "      <td>NaN</td>\n",
       "    </tr>\n",
       "    <tr>\n",
       "      <th>374</th>\n",
       "      <td>NaN</td>\n",
       "      <td>NaN</td>\n",
       "      <td>NaN</td>\n",
       "      <td>NaN</td>\n",
       "      <td>NaN</td>\n",
       "      <td>NaN</td>\n",
       "      <td>NaN</td>\n",
       "      <td>NaN</td>\n",
       "      <td>NaN</td>\n",
       "      <td>NaN</td>\n",
       "      <td>NaN</td>\n",
       "    </tr>\n",
       "    <tr>\n",
       "      <th>376</th>\n",
       "      <td>NaN</td>\n",
       "      <td>NaN</td>\n",
       "      <td>NaN</td>\n",
       "      <td>NaN</td>\n",
       "      <td>NaN</td>\n",
       "      <td>NaN</td>\n",
       "      <td>NaN</td>\n",
       "      <td>NaN</td>\n",
       "      <td>NaN</td>\n",
       "      <td>NaN</td>\n",
       "      <td>NaN</td>\n",
       "    </tr>\n",
       "    <tr>\n",
       "      <th>378</th>\n",
       "      <td>NaN</td>\n",
       "      <td>NaN</td>\n",
       "      <td>NaN</td>\n",
       "      <td>NaN</td>\n",
       "      <td>NaN</td>\n",
       "      <td>NaN</td>\n",
       "      <td>NaN</td>\n",
       "      <td>NaN</td>\n",
       "      <td>NaN</td>\n",
       "      <td>NaN</td>\n",
       "      <td>NaN</td>\n",
       "    </tr>\n",
       "    <tr>\n",
       "      <th>380</th>\n",
       "      <td>NaN</td>\n",
       "      <td>NaN</td>\n",
       "      <td>NaN</td>\n",
       "      <td>NaN</td>\n",
       "      <td>NaN</td>\n",
       "      <td>NaN</td>\n",
       "      <td>NaN</td>\n",
       "      <td>NaN</td>\n",
       "      <td>NaN</td>\n",
       "      <td>NaN</td>\n",
       "      <td>NaN</td>\n",
       "    </tr>\n",
       "  </tbody>\n",
       "</table>\n",
       "<p>382 rows × 11 columns</p>\n",
       "</div>"
      ],
      "text/plain": [
       "         country population  yearly_change  net_change  density  land_area  \\\n",
       "317     Eswatini  1,160,164            NaN         NaN     67.0        NaN   \n",
       "315       Cyprus  1,207,359            NaN         NaN    131.0        NaN   \n",
       "313    Mauritius  1,271,768            NaN         NaN    626.0        NaN   \n",
       "311  Timor-Leste  1,318,445            NaN         NaN     89.0        NaN   \n",
       "309      Estonia  1,326,535            NaN       887.0     31.0        NaN   \n",
       "..           ...        ...            ...         ...      ...        ...   \n",
       "372          NaN        NaN            NaN         NaN      NaN        NaN   \n",
       "374          NaN        NaN            NaN         NaN      NaN        NaN   \n",
       "376          NaN        NaN            NaN         NaN      NaN        NaN   \n",
       "378          NaN        NaN            NaN         NaN      NaN        NaN   \n",
       "380          NaN        NaN            NaN         NaN      NaN        NaN   \n",
       "\n",
       "     migrants  fert_rate  med_age  urban_pop  world_share  \n",
       "317       NaN        3.0     21.0        NaN          NaN  \n",
       "315       NaN        1.3     37.0        NaN          NaN  \n",
       "313       0.0        1.4     37.0        NaN          NaN  \n",
       "311       NaN        4.1     21.0        NaN          NaN  \n",
       "309       NaN        1.6     42.0        NaN          NaN  \n",
       "..        ...        ...      ...        ...          ...  \n",
       "372       NaN        NaN      NaN        NaN          NaN  \n",
       "374       NaN        NaN      NaN        NaN          NaN  \n",
       "376       NaN        NaN      NaN        NaN          NaN  \n",
       "378       NaN        NaN      NaN        NaN          NaN  \n",
       "380       NaN        NaN      NaN        NaN          NaN  \n",
       "\n",
       "[382 rows x 11 columns]"
      ]
     },
     "execution_count": 114,
     "metadata": {},
     "output_type": "execute_result"
    }
   ],
   "source": [
    "population.sort_values(by=['population'])    # here i am sorting the dataset according to the population.\n",
    "                                             # here we can see population column is increasing row by row."
   ]
  },
  {
   "cell_type": "code",
   "execution_count": null,
   "id": "5b6b45b5",
   "metadata": {},
   "outputs": [],
   "source": []
  }
 ],
 "metadata": {
  "kernelspec": {
   "display_name": "Python 3",
   "language": "python",
   "name": "python3"
  },
  "language_info": {
   "codemirror_mode": {
    "name": "ipython",
    "version": 3
   },
   "file_extension": ".py",
   "mimetype": "text/x-python",
   "name": "python",
   "nbconvert_exporter": "python",
   "pygments_lexer": "ipython3",
   "version": "3.8.8"
  }
 },
 "nbformat": 4,
 "nbformat_minor": 5
}
